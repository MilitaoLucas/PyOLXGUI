{
 "cells": [
  {
   "cell_type": "code",
   "id": "initial_id",
   "metadata": {
    "collapsed": true,
    "ExecuteTime": {
     "end_time": "2025-05-31T20:41:47.910372Z",
     "start_time": "2025-05-31T20:41:47.888674Z"
    }
   },
   "source": [
    "from importlib import reload\n",
    "\n",
    "\n",
    "import components.item_component\n",
    "import components.table\n",
    "reload(components.item_component)\n",
    "reload(components.table)\n",
    "from components.item_component import *\n",
    "from components.table import *\n",
    "from dataclasses import asdict"
   ],
   "outputs": [],
   "execution_count": 4
  },
  {
   "metadata": {
    "ExecuteTime": {
     "end_time": "2025-05-31T20:36:40.682887Z",
     "start_time": "2025-05-31T20:36:40.674655Z"
    }
   },
   "cell_type": "code",
   "source": "TestComponent(spacing=2)",
   "id": "9e34cfbff2bef250",
   "outputs": [
    {
     "data": {
      "text/plain": [
       "  $+\n",
       "  html.Snippet(\n",
       "    \"gui/snippets/input-combo\"\n",
       "    \"name=NoSpherA2_cpus@refine\",\n",
       "    \"items=spy.NoSpherA2.getCPUListStr()\",\n",
       "    \"value=spy.GetParam('snum.NoSpherA2.ncpus')\",\n",
       "    \"onchange=spy.SetParam('snum.NoSpherA2.ncpus', html.GetValue('~name~'))\",\n",
       "  )\n",
       "  $-"
      ]
     },
     "execution_count": 3,
     "metadata": {},
     "output_type": "execute_result"
    }
   ],
   "execution_count": 3
  },
  {
   "metadata": {
    "ExecuteTime": {
     "end_time": "2025-05-31T17:39:37.593152Z",
     "start_time": "2025-05-31T17:39:37.589400Z"
    }
   },
   "cell_type": "code",
   "source": "InputComboComponent(\"name\", \"a;b;c\", \"d\", spacing=2)",
   "id": "dab3eb4a39eb25f1",
   "outputs": [
    {
     "data": {
      "text/plain": [
       "$+\n",
       "  html.Snippet(\n",
       "    \"gui/snippets/input-combo\"\n",
       "    \"name=name\",\n",
       "    \"items=a;b;c\",\n",
       "    \"value=d\",\n",
       "  )\n",
       "$-"
      ]
     },
     "execution_count": 75,
     "metadata": {},
     "output_type": "execute_result"
    }
   ],
   "execution_count": 75
  },
  {
   "metadata": {
    "ExecuteTime": {
     "end_time": "2025-05-31T19:07:22.419661Z",
     "start_time": "2025-05-31T19:07:22.390093Z"
    }
   },
   "cell_type": "code",
   "source": [
    "\n",
    "from importlib import reload\n",
    "\n",
    "\n",
    "import components.item_component\n",
    "import components.table\n",
    "reload(components.item_component)\n",
    "reload(components.table)\n",
    "from components.item_component import *\n",
    "from components.table import *\n",
    "basic_bold_text = lambda text, width=\"100%\", align=\"center\": f'''\\\n",
    "<td width=\"{width}\" align=\"{align}\">\n",
    "    <b>{text}</b>\n",
    "</td>\n",
    "'''\n",
    "form_table = SimpleTable(\n",
    "    rows=[\n",
    "        [\n",
    "            basic_bold_text(\"Integr. Accuracy\"),\n",
    "            InputComboComponent(name=\"NoSpherA2_becke_accuracy@refine\", items=\"Low;Normal;High;Max\",\n",
    "                                value=\"spy.GetParam('snum.NoSpherA2.becke_accuracy')\",\n",
    "                                onchange=\"spy.SetParam('snum.NoSpherA2.becke_accuracy', html.GetValue('~name~'))\"),\n",
    "        ]\n",
    "    ],\n",
    "    attributes={\"WIDTH\":\"100%\", \"NAME\":\"SNUM_REFINEMENT_NSFF\", \"ALIGN\":\"left\"}\n",
    ")\n",
    "\n",
    "print(form_table)\n"
   ],
   "id": "a4ea83a348062b85",
   "outputs": [
    {
     "name": "stdout",
     "output_type": "stream",
     "text": [
      "<table WIDTH=\"100%\" NAME=\"SNUM_REFINEMENT_NSFF\" ALIGN=\"left\">\n",
      "    <tr>\n",
      "        <td width=\"100%\" align=\"center\">\n",
      "            <b>Integr. Accuracy</b>\n",
      "        </td>\n",
      "        <td>\n",
      "            $+\n",
      "            html.Snippet(\n",
      "                        \"gui/snippets/input-combo\"\n",
      "                        \"name=NoSpherA2_becke_accuracy@refine\",\n",
      "                        \"items=Low;Normal;High;Max\",\n",
      "                        \"value=spy.GetParam('snum.NoSpherA2.becke_accuracy')\",\n",
      "                        \"onchange=spy.SetParam('snum.NoSpherA2.becke_accuracy', html.GetValue('~name~'))\",\n",
      "            )\n",
      "            $-\n",
      "        </td>\n",
      "    </tr>\n",
      "</table>\n"
     ]
    }
   ],
   "execution_count": 124
  },
  {
   "metadata": {
    "ExecuteTime": {
     "end_time": "2025-05-31T19:54:32.836677Z",
     "start_time": "2025-05-31T19:54:32.832504Z"
    }
   },
   "cell_type": "code",
   "source": "tr1_parameters: dict = field(default_factory=dict)",
   "id": "421c970e2bd667cf",
   "outputs": [],
   "execution_count": 125
  },
  {
   "metadata": {},
   "cell_type": "code",
   "outputs": [],
   "execution_count": null,
   "source": "",
   "id": "4c74e9e5577e8011"
  }
 ],
 "metadata": {
  "kernelspec": {
   "display_name": "Python 3",
   "language": "python",
   "name": "python3"
  },
  "language_info": {
   "codemirror_mode": {
    "name": "ipython",
    "version": 2
   },
   "file_extension": ".py",
   "mimetype": "text/x-python",
   "name": "python",
   "nbconvert_exporter": "python",
   "pygments_lexer": "ipython2",
   "version": "2.7.6"
  }
 },
 "nbformat": 4,
 "nbformat_minor": 5
}
