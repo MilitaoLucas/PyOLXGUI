{
 "cells": [
  {
   "cell_type": "code",
   "id": "initial_id",
   "metadata": {
    "collapsed": true,
    "ExecuteTime": {
     "end_time": "2025-08-20T19:49:39.467599Z",
     "start_time": "2025-08-20T19:49:39.463979Z"
    }
   },
   "source": [
    "from importlib import reload\n",
    "\n",
    "import olx_gui.components.item_component\n",
    "import olx_gui.components.table\n",
    "from olx_gui.utils.update_html import update\n",
    "reload(olx_gui.components.item_component)\n",
    "reload(olx_gui.components.table)\n",
    "from olx_gui.components.item_component import *\n",
    "from olx_gui.components.table import *\n",
    "reload(olx_gui.components)\n",
    "lexer = HtmlLexer()\n",
    "formatter = TerminalFormatter()\n"
   ],
   "outputs": [],
   "execution_count": 14
  },
  {
   "metadata": {
    "ExecuteTime": {
     "end_time": "2025-08-20T19:50:07.888561Z",
     "start_time": "2025-08-20T19:50:07.884477Z"
    }
   },
   "cell_type": "code",
   "source": [
    "sec = H3Section()\n",
    "config = TableConfig()\n",
    "config.table2_parameters.pop(\"width\")\n",
    "line1 = Line(\"Test\", config=config)\n",
    "test = InputCheckbox2(\"test\", b(\"test\"), label_left=False)\n",
    "line1.add([test, ComboBox(\"test\", \"test\")])\n",
    "sec.add(line1)\n",
    "sec\n"
   ],
   "id": "572b269c8f114775",
   "outputs": [
    {
     "data": {
      "text/plain": [
       "<olx_gui.components.table.H3Section at 0x7f2d2584fe10>"
      ],
      "text/html": [
       "\n",
       "<!-- #include tool-h3 gui\\blocks\\tool-h3.htm;image=#image;colspan=1;1 -->\n",
       "<tr ALIGN=\"left\" NAME=\"Test\" width=\"100%\">\n",
       "<!-- #include tool-help-first-column gui\\blocks\\tool-help-first-column.htm;help_ext=#help_ext;1 -->\n",
       "  <td colspan=\"#colspan\">\n",
       "    <table Xbgcolor=\"#ffaaaa\" border=\"0\" cellpadding=\"0\" cellspacing=\"0\" width=\"50%\">\n",
       "      <tr Xbgcolor=\"#ffffaa\">\n",
       "        <td align=\"left\" width=\"100\">\n",
       "          <table cellpadding=\"0\" cellspacing=\"2\">\n",
       "            <tr bgcolor=\"$GetVar(HtmlTableGroupBgColour)\">\n",
       "              <td>\n",
       "                <table cellpadding=\"2\" cellspacing=\"0\">\n",
       "                  <tr valign=\"middle\">\n",
       "                    <td valign=\"middle\">\n",
       "                      <input bgcolor=\"GetVar(HtmlTableBgColour)\" fgcolor=\"GetVar(HtmlFontColour)\" height=\"20\" name=\"test\" type=\"checkbox\" valign=\"middle\">\n",
       "                    </td>\n",
       "                    <td align=\"left\" valign=\"middle\">\n",
       "                      <b>test</b>\n",
       "                    </td>\n",
       "                  </tr>\n",
       "                </table>\n",
       "              </td>\n",
       "              <td>\n",
       "                <table cellpadding=\"2\" cellspacing=\"0\">\n",
       "                  <tr valign=\"middle\">\n",
       "                    <td valign=\"middle\">\n",
       "                      <input bgcolor=\"GetVar(HtmlInputBgColour)\" fgcolor=\"GetVar(HtmlFontColour)\" height=\"GetVar(HtmlComboHeight)\" name=\"test\" readonly=\"true\" type=\"combo\" valign=\"middle\">\n",
       "                    </td>\n",
       "                    <td align=\"left\" valign=\"middle\">\n",
       "                      <b>test</b>\n",
       "                    </td>\n",
       "                  </tr>\n",
       "                </table>\n",
       "              </td>\n",
       "            </tr>\n",
       "          </table>\n",
       "        </td>\n",
       "      </tr>\n",
       "    </table>\n",
       "  </td>\n",
       "</tr>"
      ]
     },
     "execution_count": 19,
     "metadata": {},
     "output_type": "execute_result"
    }
   ],
   "execution_count": 19
  },
  {
   "metadata": {
    "ExecuteTime": {
     "end_time": "2025-08-20T19:50:11.948003Z",
     "start_time": "2025-08-20T19:50:11.945697Z"
    }
   },
   "cell_type": "code",
   "source": [
    "with open(\"h3-refine_NoSpherA2-tests.htm\", \"w\") as f:\n",
    "    f.write(str(sec))\n",
    "update()\n"
   ],
   "id": "2ff40ab9a9d1ec2d",
   "outputs": [],
   "execution_count": 20
  },
  {
   "metadata": {},
   "cell_type": "code",
   "outputs": [],
   "execution_count": null,
   "source": "",
   "id": "df0934642a54ad5a"
  }
 ],
 "metadata": {
  "kernelspec": {
   "display_name": "Python 3",
   "language": "python",
   "name": "python3"
  },
  "language_info": {
   "codemirror_mode": {
    "name": "ipython",
    "version": 2
   },
   "file_extension": ".py",
   "mimetype": "text/x-python",
   "name": "python",
   "nbconvert_exporter": "python",
   "pygments_lexer": "ipython2",
   "version": "2.7.6"
  }
 },
 "nbformat": 4,
 "nbformat_minor": 5
}
