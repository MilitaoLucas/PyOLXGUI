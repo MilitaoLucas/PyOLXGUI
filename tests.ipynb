{
 "cells": [
  {
   "cell_type": "code",
   "id": "initial_id",
   "metadata": {
    "collapsed": true,
    "ExecuteTime": {
     "end_time": "2025-06-01T01:17:30.251782Z",
     "start_time": "2025-06-01T01:17:30.226476Z"
    }
   },
   "source": [
    "from importlib import reload\n",
    "\n",
    "\n",
    "import components.item_component\n",
    "import components.table\n",
    "reload(components.item_component)\n",
    "reload(components.table)\n",
    "from components.item_component import *\n",
    "from components.table import *\n",
    "from dataclasses import asdict\n",
    "\n",
    "lexer = HtmlLexer()\n",
    "formatter = TerminalFormatter() # This will output ANSI escape codes\n",
    "from bs4 import BeautifulSoup"
   ],
   "outputs": [],
   "execution_count": 2
  },
  {
   "metadata": {
    "ExecuteTime": {
     "end_time": "2025-05-31T23:12:30.639635Z",
     "start_time": "2025-05-31T23:12:30.633532Z"
    }
   },
   "cell_type": "code",
   "source": "TestComponent(spacing=2)",
   "id": "9e34cfbff2bef250",
   "outputs": [
    {
     "data": {
      "text/plain": [
       "$+\n",
       "  html.Snippet(\n",
       "    \"gui/snippets/input-combo\"\n",
       "    \"name=NoSpherA2_cpus@refine\",\n",
       "    \"items=spy.NoSpherA2.getCPUListStr()\",\n",
       "    \"value=spy.GetParam('snum.NoSpherA2.ncpus')\",\n",
       "    \"onchange=spy.SetParam('snum.NoSpherA2.ncpus', html.GetValue('~name~'))\",\n",
       "  )\n",
       "$-"
      ]
     },
     "execution_count": 2,
     "metadata": {},
     "output_type": "execute_result"
    }
   ],
   "execution_count": 2
  },
  {
   "metadata": {
    "ExecuteTime": {
     "end_time": "2025-05-31T23:12:30.847154Z",
     "start_time": "2025-05-31T23:12:30.842920Z"
    }
   },
   "cell_type": "code",
   "source": "InputComboComponent(\"name\", \"a;b;c\", \"d\", spacing=2)",
   "id": "dab3eb4a39eb25f1",
   "outputs": [
    {
     "data": {
      "text/plain": [
       "$+\n",
       "  html.Snippet(\n",
       "    \"gui/snippets/input-combo\"\n",
       "    \"name=name\",\n",
       "    \"items=a;b;c\",\n",
       "    \"value=d\",\n",
       "  )\n",
       "$-"
      ]
     },
     "execution_count": 3,
     "metadata": {},
     "output_type": "execute_result"
    }
   ],
   "execution_count": 3
  },
  {
   "metadata": {
    "ExecuteTime": {
     "end_time": "2025-06-01T01:49:56.197261Z",
     "start_time": "2025-06-01T01:49:56.170579Z"
    }
   },
   "cell_type": "code",
   "source": [
    "\n",
    "from importlib import reload\n",
    "\n",
    "\n",
    "import components.item_component\n",
    "import components.table\n",
    "reload(components.item_component)\n",
    "reload(components.table)\n",
    "from components.item_component import *\n",
    "from components.table import *\n",
    "\n",
    "\n",
    "def text_bold(text: str, width: str=\"100%\", align: str=\"center\"):\n",
    "    with td({\"width\": width, \"align\": align}) as btext:\n",
    "        b(text)\n",
    "    return btext\n",
    "\n",
    "cfg = TableConfig(tr1_parameters={\"ALIGN\":\"left\", \"NAME\":'SNUM_REFINEMENT_NSFF',\"width\":\"100%\"})\n",
    "\n",
    "form_table = Table(\n",
    "    rows=[\n",
    "        [\n",
    "            text_bold(\"Integr. Accuracy\"),\n",
    "            InputComboComponent(name=\"NoSpherA2_becke_accuracy@refine\", items=\"Low;Normal;High;Max\",\n",
    "                                value=\"spy.GetParam('snum.NoSpherA2.becke_accuracy')\",\n",
    "                                onchange=\"spy.SetParam('snum.NoSpherA2.becke_accuracy', html.GetValue('~name~'))\",\n",
    "                                td_comp={},\n",
    "                                ),\n",
    "\n",
    "            InputComboComponent(name=\"NoSpherA2_becke_accuracy@refine\", items=\"Low;Normal;High;Max\",\n",
    "                                value=\"spy.GetParam('snum.NoSpherA2.becke_accuracy')\",\n",
    "                                onchange=\"spy.SetParam('snum.NoSpherA2.becke_accuracy', html.GetValue('~name~'))\",\n",
    "                                td_comp={},\n",
    "                                ),\n",
    "\n",
    "        ],\n",
    "        [\n",
    "            text_bold(\"Integr. Accuracy\"),\n",
    "            InputComboComponent(name=\"NoSpherA2_becke_accuracy@refine\", items=\"Low;Normal;High;Max\",\n",
    "                                value=\"spy.GetParam('snum.NoSpherA2.becke_accuracy')\",\n",
    "                                onchange=\"spy.SetParam('snum.NoSpherA2.becke_accuracy', html.GetValue('~name~'))\",\n",
    "                                td_comp={},\n",
    "                                ),\n",
    "            IncludeComment(name=\"test-t\", path=\"gui\\\\blocks\\\\tool-help-first-column.htm\", other_pars=[\"test=nos\",\"1\"])\n",
    "        ],\n",
    "    ], config=cfg\n",
    ")\n",
    "\n",
    "highlighted_html = highlight(str(form_table), lexer, formatter)\n",
    "print(highlighted_html)\n"
   ],
   "id": "a4ea83a348062b85",
   "outputs": [
    {
     "name": "stdout",
     "output_type": "stream",
     "text": [
      "<\u001B[94mtr\u001B[39;49;00m \u001B[36malign\u001B[39;49;00m=\u001B[33m\"left\"\u001B[39;49;00m \u001B[36mname\u001B[39;49;00m=\u001B[33m\"SNUM_REFINEMENT_NSFF\"\u001B[39;49;00m \u001B[36mwidth\u001B[39;49;00m=\u001B[33m\"100%\"\u001B[39;49;00m>\n",
      " <\u001B[94mtd\u001B[39;49;00m \u001B[36mcolspan\u001B[39;49;00m=\u001B[33m\"#colspan\"\u001B[39;49;00m>\n",
      "  <\u001B[94mtable\u001B[39;49;00m \u001B[36mborder\u001B[39;49;00m=\u001B[33m\"0\"\u001B[39;49;00m \u001B[36mcellpadding\u001B[39;49;00m=\u001B[33m\"0\"\u001B[39;49;00m \u001B[36mcellspacing\u001B[39;49;00m=\u001B[33m\"0\"\u001B[39;49;00m \u001B[36mwidth\u001B[39;49;00m=\u001B[33m\"100%\"\u001B[39;49;00m \u001B[36mxbgcolor\u001B[39;49;00m=\u001B[33m\"#ffaaaa\"\u001B[39;49;00m>\n",
      "   <\u001B[94mtr\u001B[39;49;00m \u001B[36mxbgcolor\u001B[39;49;00m=\u001B[33m\"#ffffaa\"\u001B[39;49;00m>\n",
      "    <\u001B[94mtd\u001B[39;49;00m \u001B[36malign\u001B[39;49;00m=\u001B[33m\"left\"\u001B[39;49;00m \u001B[36mwidth\u001B[39;49;00m=\u001B[33m\"#width%\"\u001B[39;49;00m>\n",
      "     <\u001B[94mtable\u001B[39;49;00m \u001B[36mcellpadding\u001B[39;49;00m=\u001B[33m\"0\"\u001B[39;49;00m \u001B[36mcellspacing\u001B[39;49;00m=\u001B[33m\"2\"\u001B[39;49;00m \u001B[36mwidth\u001B[39;49;00m=\u001B[33m\"100%\"\u001B[39;49;00m>\n",
      "      <\u001B[94mtr\u001B[39;49;00m \u001B[36mbgcolor\u001B[39;49;00m=\u001B[33m\"GetVar(HtmlTableGroupBgColour)\"\u001B[39;49;00m>\n",
      "       <\u001B[94mtd\u001B[39;49;00m \u001B[36malign\u001B[39;49;00m=\u001B[33m\"center\"\u001B[39;49;00m \u001B[36mwidth\u001B[39;49;00m=\u001B[33m\"100%\"\u001B[39;49;00m>\n",
      "        <\u001B[94mb\u001B[39;49;00m>\n",
      "         Integr. Accuracy\n",
      "        </\u001B[94mb\u001B[39;49;00m>\n",
      "       </\u001B[94mtd\u001B[39;49;00m>\n",
      "       <\u001B[94mtd\u001B[39;49;00m \u001B[36malign\u001B[39;49;00m=\u001B[33m\"left\"\u001B[39;49;00m \u001B[36mwidth\u001B[39;49;00m=\u001B[33m\"1%\"\u001B[39;49;00m>\n",
      "        $+\n",
      "    html.Snippet(\n",
      "        \"gui/snippets/input-combo\"\n",
      "        \"name=NoSpherA2_becke_accuracy@refine\",\n",
      "        \"items=Low;Normal;High;Max\",\n",
      "        \"value=spy.GetParam('snum.NoSpherA2.becke_accuracy')\",\n",
      "        \"onchange=spy.SetParam('snum.NoSpherA2.becke_accuracy', html.GetValue('~name~'))\",\n",
      "        \"td_comp={'width': '1%', 'align': 'left'}\",\n",
      "    )\n",
      "    $-\n",
      "       </\u001B[94mtd\u001B[39;49;00m>\n",
      "       <\u001B[94mtd\u001B[39;49;00m \u001B[36malign\u001B[39;49;00m=\u001B[33m\"left\"\u001B[39;49;00m \u001B[36mwidth\u001B[39;49;00m=\u001B[33m\"1%\"\u001B[39;49;00m>\n",
      "        $+\n",
      "    html.Snippet(\n",
      "        \"gui/snippets/input-combo\"\n",
      "        \"name=NoSpherA2_becke_accuracy@refine\",\n",
      "        \"items=Low;Normal;High;Max\",\n",
      "        \"value=spy.GetParam('snum.NoSpherA2.becke_accuracy')\",\n",
      "        \"onchange=spy.SetParam('snum.NoSpherA2.becke_accuracy', html.GetValue('~name~'))\",\n",
      "        \"td_comp={'width': '1%', 'align': 'left'}\",\n",
      "    )\n",
      "    $-\n",
      "       </\u001B[94mtd\u001B[39;49;00m>\n",
      "      </\u001B[94mtr\u001B[39;49;00m>\n",
      "     </\u001B[94mtable\u001B[39;49;00m>\n",
      "    </\u001B[94mtd\u001B[39;49;00m>\n",
      "   </\u001B[94mtr\u001B[39;49;00m>\n",
      "  </\u001B[94mtable\u001B[39;49;00m>\n",
      " </\u001B[94mtd\u001B[39;49;00m>\n",
      "</\u001B[94mtr\u001B[39;49;00m>\n",
      "<\u001B[94mtr\u001B[39;49;00m \u001B[36malign\u001B[39;49;00m=\u001B[33m\"left\"\u001B[39;49;00m \u001B[36mname\u001B[39;49;00m=\u001B[33m\"SNUM_REFINEMENT_NSFF\"\u001B[39;49;00m \u001B[36mwidth\u001B[39;49;00m=\u001B[33m\"100%\"\u001B[39;49;00m>\n",
      " <\u001B[94mtd\u001B[39;49;00m \u001B[36mcolspan\u001B[39;49;00m=\u001B[33m\"#colspan\"\u001B[39;49;00m>\n",
      "  <\u001B[94mtable\u001B[39;49;00m \u001B[36mborder\u001B[39;49;00m=\u001B[33m\"0\"\u001B[39;49;00m \u001B[36mcellpadding\u001B[39;49;00m=\u001B[33m\"0\"\u001B[39;49;00m \u001B[36mcellspacing\u001B[39;49;00m=\u001B[33m\"0\"\u001B[39;49;00m \u001B[36mwidth\u001B[39;49;00m=\u001B[33m\"100%\"\u001B[39;49;00m \u001B[36mxbgcolor\u001B[39;49;00m=\u001B[33m\"#ffaaaa\"\u001B[39;49;00m>\n",
      "   <\u001B[94mtr\u001B[39;49;00m \u001B[36mxbgcolor\u001B[39;49;00m=\u001B[33m\"#ffffaa\"\u001B[39;49;00m>\n",
      "    <\u001B[94mtd\u001B[39;49;00m \u001B[36malign\u001B[39;49;00m=\u001B[33m\"left\"\u001B[39;49;00m \u001B[36mwidth\u001B[39;49;00m=\u001B[33m\"#width%\"\u001B[39;49;00m>\n",
      "     <\u001B[94mtable\u001B[39;49;00m \u001B[36mcellpadding\u001B[39;49;00m=\u001B[33m\"0\"\u001B[39;49;00m \u001B[36mcellspacing\u001B[39;49;00m=\u001B[33m\"2\"\u001B[39;49;00m \u001B[36mwidth\u001B[39;49;00m=\u001B[33m\"100%\"\u001B[39;49;00m>\n",
      "      <\u001B[94mtr\u001B[39;49;00m \u001B[36mbgcolor\u001B[39;49;00m=\u001B[33m\"GetVar(HtmlTableGroupBgColour)\"\u001B[39;49;00m>\n",
      "       <\u001B[94mtd\u001B[39;49;00m \u001B[36malign\u001B[39;49;00m=\u001B[33m\"center\"\u001B[39;49;00m \u001B[36mwidth\u001B[39;49;00m=\u001B[33m\"100%\"\u001B[39;49;00m>\n",
      "        <\u001B[94mb\u001B[39;49;00m>\n",
      "         Integr. Accuracy\n",
      "        </\u001B[94mb\u001B[39;49;00m>\n",
      "       </\u001B[94mtd\u001B[39;49;00m>\n",
      "       <\u001B[94mtd\u001B[39;49;00m \u001B[36malign\u001B[39;49;00m=\u001B[33m\"left\"\u001B[39;49;00m \u001B[36mwidth\u001B[39;49;00m=\u001B[33m\"1%\"\u001B[39;49;00m>\n",
      "        $+\n",
      "    html.Snippet(\n",
      "        \"gui/snippets/input-combo\"\n",
      "        \"name=NoSpherA2_becke_accuracy@refine\",\n",
      "        \"items=Low;Normal;High;Max\",\n",
      "        \"value=spy.GetParam('snum.NoSpherA2.becke_accuracy')\",\n",
      "        \"onchange=spy.SetParam('snum.NoSpherA2.becke_accuracy', html.GetValue('~name~'))\",\n",
      "        \"td_comp={'width': '1%', 'align': 'left'}\",\n",
      "    )\n",
      "    $-\n",
      "       </\u001B[94mtd\u001B[39;49;00m>\n",
      "       \u001B[37m<!-- #include test-t gui\\blocks\\tool-help-first-column.htmtest=nos;1 -->\u001B[39;49;00m\n",
      "      </\u001B[94mtr\u001B[39;49;00m>\n",
      "     </\u001B[94mtable\u001B[39;49;00m>\n",
      "    </\u001B[94mtd\u001B[39;49;00m>\n",
      "   </\u001B[94mtr\u001B[39;49;00m>\n",
      "  </\u001B[94mtable\u001B[39;49;00m>\n",
      " </\u001B[94mtd\u001B[39;49;00m>\n",
      "</\u001B[94mtr\u001B[39;49;00m>\n",
      "\n"
     ]
    }
   ],
   "execution_count": 9
  },
  {
   "metadata": {
    "ExecuteTime": {
     "end_time": "2025-06-01T01:14:14.098108Z",
     "start_time": "2025-06-01T01:14:14.094220Z"
    }
   },
   "cell_type": "code",
   "source": "print(str(IncludeComment(name=\"test-t\", path=r\"gui\\blocks\\tool-help-first-column.htm\", other_pars=[\"test=nos\",\"1\"])))",
   "id": "40706eda39ba53e0",
   "outputs": [
    {
     "name": "stdout",
     "output_type": "stream",
     "text": [
      "<!-- #include test-t gui\\blocks\\tool-help-first-column.htmtest=nos;1 -->\n"
     ]
    }
   ],
   "execution_count": 71
  },
  {
   "metadata": {
    "ExecuteTime": {
     "end_time": "2025-05-31T19:54:32.836677Z",
     "start_time": "2025-05-31T19:54:32.832504Z"
    }
   },
   "cell_type": "code",
   "source": "tr1_parameters: dict = field(default_factory=dict)",
   "id": "421c970e2bd667cf",
   "outputs": [],
   "execution_count": 125
  },
  {
   "metadata": {
    "ExecuteTime": {
     "end_time": "2025-06-01T01:19:21.016272Z",
     "start_time": "2025-06-01T01:19:21.012673Z"
    }
   },
   "cell_type": "code",
   "source": "print(form_table.raw_str())",
   "id": "4c74e9e5577e8011",
   "outputs": [
    {
     "name": "stdout",
     "output_type": "stream",
     "text": [
      "<tr ALIGN=\"left\" NAME=\"SNUM_REFINEMENT_NSFF\" width=\"100%\">\n",
      "  <td colspan=\"#colspan\">\n",
      "    <table Xbgcolor=\"#ffaaaa\" border=\"0\" cellpadding=\"0\" cellspacing=\"0\" width=\"100%\">\n",
      "      <tr Xbgcolor=\"#ffffaa\">\n",
      "        <td align=\"left\" width=\"#width%\">\n",
      "          <table cellpadding=\"0\" cellspacing=\"2\" width=\"100%\">\n",
      "            <tr bgcolor=\"GetVar(HtmlTableGroupBgColour)\">\n",
      "<td width=\"1%\" align=\"left\">\n",
      "    $+\n",
      "    html.Snippet(\n",
      "        \"gui/snippets/input-combo\"\n",
      "        \"name=NoSpherA2_becke_accuracy@refine\",\n",
      "        \"items=Low;Normal;High;Max\",\n",
      "        \"value=spy.GetParam('snum.NoSpherA2.becke_accuracy')\",\n",
      "        \"onchange=spy.SetParam('snum.NoSpherA2.becke_accuracy', html.GetValue('~name~'))\",\n",
      "        \"td_comp={'width': '1%', 'align': 'left'}\",\n",
      "    )\n",
      "    $-\n",
      "    </td>\n",
      "\n",
      "<td width=\"1%\" align=\"left\">\n",
      "    $+\n",
      "    html.Snippet(\n",
      "        \"gui/snippets/input-combo\"\n",
      "        \"name=NoSpherA2_becke_accuracy@refine\",\n",
      "        \"items=Low;Normal;High;Max\",\n",
      "        \"value=spy.GetParam('snum.NoSpherA2.becke_accuracy')\",\n",
      "        \"onchange=spy.SetParam('snum.NoSpherA2.becke_accuracy', html.GetValue('~name~'))\",\n",
      "        \"td_comp={'width': '1%', 'align': 'left'}\",\n",
      "    )\n",
      "    $-\n",
      "    </td>\n",
      "</tr>\n",
      "          </table>\n",
      "        </td>\n",
      "      </tr>\n",
      "    </table>\n",
      "  </td>\n",
      "</tr><tr ALIGN=\"left\" NAME=\"SNUM_REFINEMENT_NSFF\" width=\"100%\">\n",
      "  <td colspan=\"#colspan\">\n",
      "    <table Xbgcolor=\"#ffaaaa\" border=\"0\" cellpadding=\"0\" cellspacing=\"0\" width=\"100%\">\n",
      "      <tr Xbgcolor=\"#ffffaa\">\n",
      "        <td align=\"left\" width=\"#width%\">\n",
      "          <table cellpadding=\"0\" cellspacing=\"2\" width=\"100%\">\n",
      "            <tr bgcolor=\"GetVar(HtmlTableGroupBgColour)\">\n",
      "<td width=\"1%\" align=\"left\">\n",
      "    $+\n",
      "    html.Snippet(\n",
      "        \"gui/snippets/input-combo\"\n",
      "        \"name=NoSpherA2_becke_accuracy@refine\",\n",
      "        \"items=Low;Normal;High;Max\",\n",
      "        \"value=spy.GetParam('snum.NoSpherA2.becke_accuracy')\",\n",
      "        \"onchange=spy.SetParam('snum.NoSpherA2.becke_accuracy', html.GetValue('~name~'))\",\n",
      "        \"td_comp={'width': '1%', 'align': 'left'}\",\n",
      "    )\n",
      "    $-\n",
      "    </td>\n",
      "</tr>\n",
      "          </table>\n",
      "        </td>\n",
      "      </tr>\n",
      "    </table>\n",
      "  </td>\n",
      "</tr><tr ALIGN=\"left\" NAME=\"SNUM_REFINEMENT_NSFF\" width=\"100%\">\n",
      "  <td colspan=\"#colspan\">\n",
      "    <table Xbgcolor=\"#ffaaaa\" border=\"0\" cellpadding=\"0\" cellspacing=\"0\" width=\"100%\">\n",
      "      <tr Xbgcolor=\"#ffffaa\">\n",
      "        <td align=\"left\" width=\"#width%\">\n",
      "          <table cellpadding=\"0\" cellspacing=\"2\" width=\"100%\">\n",
      "            <tr bgcolor=\"GetVar(HtmlTableGroupBgColour)\"></tr>\n",
      "          </table>\n",
      "        </td>\n",
      "      </tr>\n",
      "    </table>\n",
      "  </td>\n",
      "</tr>\n"
     ]
    }
   ],
   "execution_count": 6
  },
  {
   "metadata": {
    "ExecuteTime": {
     "end_time": "2025-06-01T01:15:59.181479Z",
     "start_time": "2025-06-01T01:15:59.178385Z"
    }
   },
   "cell_type": "code",
   "source": "print(raw(str(IncludeComment(name=\"test-t\", path=\"gui\\\\blocks\\\\tool-help-first-column.htm\", other_pars=[\"test=nos\",\"1\"]))))",
   "id": "add4f80da6689f4d",
   "outputs": [
    {
     "name": "stdout",
     "output_type": "stream",
     "text": [
      "<!-- #include test-t gui\\blocks\\tool-help-first-column.htmtest=nos;1 -->\n"
     ]
    }
   ],
   "execution_count": 77
  },
  {
   "metadata": {
    "ExecuteTime": {
     "end_time": "2025-06-01T01:16:39.409258Z",
     "start_time": "2025-06-01T01:16:39.405698Z"
    }
   },
   "cell_type": "code",
   "source": "print(b(raw(str(IncludeComment(name=\"test-t\", path=\"gui\\\\blocks\\\\tool-help-first-column.htm\", other_pars=[\"test=nos\",\"1\"])))))",
   "id": "17e012d9318c4575",
   "outputs": [
    {
     "name": "stdout",
     "output_type": "stream",
     "text": [
      "<b><!-- #include test-t gui\\blocks\\tool-help-first-column.htmtest=nos;1 --></b>\n"
     ]
    }
   ],
   "execution_count": 81
  },
  {
   "metadata": {},
   "cell_type": "code",
   "outputs": [],
   "execution_count": null,
   "source": "",
   "id": "ded973ef9d4073b8"
  }
 ],
 "metadata": {
  "kernelspec": {
   "display_name": "Python 3",
   "language": "python",
   "name": "python3"
  },
  "language_info": {
   "codemirror_mode": {
    "name": "ipython",
    "version": 2
   },
   "file_extension": ".py",
   "mimetype": "text/x-python",
   "name": "python",
   "nbconvert_exporter": "python",
   "pygments_lexer": "ipython2",
   "version": "2.7.6"
  }
 },
 "nbformat": 4,
 "nbformat_minor": 5
}
