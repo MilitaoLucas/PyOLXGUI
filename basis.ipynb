{
 "cells": [
  {
   "cell_type": "code",
   "id": "initial_id",
   "metadata": {
    "collapsed": true,
    "ExecuteTime": {
     "end_time": "2025-07-07T18:22:13.769520Z",
     "start_time": "2025-07-07T18:22:13.765364Z"
    }
   },
   "source": [
    "import os\n",
    "from importlib import reload\n",
    "import ast\n",
    "\n",
    "import olx_gui.components.item_component\n",
    "import olx_gui.components.table\n",
    "import olx_gui.components.tableOriginalComponents\n",
    "import temp.blocks\n",
    "reload(temp.blocks)\n",
    "reload(olx_gui.components.item_component)\n",
    "reload(olx_gui.components.table)\n",
    "reload(olx_gui.components.tableOriginalComponents)\n",
    "from olx_gui.components.item_component import *\n",
    "from olx_gui.components.tableOriginalComponents import *\n",
    "from olx_gui.components.table import *\n",
    "from dotenv import load_dotenv, set_key\n",
    "import re\n",
    "lexer = HtmlLexer()\n",
    "formatter = TerminalFormatter() # This will output ANSI escape codes\n",
    "from bs4 import BeautifulSoup\n",
    "import sys\n",
    "# from olexpy import PreprocessHtml"
   ],
   "outputs": [],
   "execution_count": 56
  },
  {
   "metadata": {
    "ExecuteTime": {
     "end_time": "2025-07-07T18:22:14.189936Z",
     "start_time": "2025-07-07T18:22:14.185558Z"
    }
   },
   "cell_type": "code",
   "source": [
    "cfg = TableConfig(tr1_parameters=\n",
    "                  {\n",
    "                      \"ALIGN\": \"center\",\n",
    "                      \"NAME\":'SNUM_REFINEMENT_NSFF',\n",
    "                  },\n",
    "                table1_parameters = {\n",
    "                     \"width\":\"50%\"\n",
    "                },\n",
    ")\n",
    "\n",
    "table = TableOriginal(rows=[\n",
    "    [\n",
    "    include_comment(name=\"tool-help-first-column\",\n",
    "                    path=r\"gui\\blocks\\tool-help-first-column.htm\",\n",
    "                    other_pars=['help_ext=NoSpherA2_Quick_Buttons', '1']),\n",
    "    ],\n",
    "    [\n",
    "    include_comment(name=\"tool-help-first-column\", path=r\"gui\\blocks\\tool-help-first-column.htm\", other_pars=['help_ext=NoSpherA2_Add_Basissets_1', '1']),\n",
    "    GeneralComponent(\n",
    "        \"gui/snippets/input-text\",\n",
    "        name=\"NoSpherA2_add_basis\",\n",
    "        value=\"spy.GetParam('snum.NoSpherA2.basis_link')\",\n",
    "        onchange=\"spy.SetParam('snum.NoSpherA2.basis_link',html.GetValue('~name~'))\",\n",
    "        label=\"Download Link: \",\n",
    "        td_comp={\"width\": \"100%\", \"align\": \"center\"}\n",
    "        ).dominate,\n",
    "    ]],\n",
    "    help_ext=\"NoSpherA2_Add_Basissets_1\",\n",
    "    config=cfg,\n",
    ")\n",
    "table"
   ],
   "id": "76f26fbd8c6783b6",
   "outputs": [
    {
     "name": "stdout",
     "output_type": "stream",
     "text": [
      "<tr ALIGN=\"center\" NAME=\"SNUM_REFINEMENT_NSFF\">\n",
      "  <!-- #include tool-help-first-column gui\\blocks\\tool-help-first-column.htm;help_ext=NoSpherA2_Add_Basissets_1;1 -->\n",
      "  <!-- #include row-table-on gui\\blocks\\row_table_on.htm;1;colspan=#colspan;width=#width -->\n",
      "  <div>\n",
      "    <!-- #include tool-help-first-column gui\\blocks\\tool-help-first-column.htm;help_ext=NoSpherA2_Quick_Buttons;1 -->\n",
      "  </div>\n",
      "  <!-- #include td-table-off gui\\balanced\\td-table-off.htm;1 -->\n",
      "</tr>\n",
      "<tr ALIGN=\"center\" NAME=\"SNUM_REFINEMENT_NSFF\">\n",
      "  <!-- #include tool-help-first-column gui\\blocks\\tool-help-first-column.htm;help_ext=NoSpherA2_Add_Basissets_1;1 -->\n",
      "  <!-- #include row-table-on gui\\blocks\\row_table_on.htm;1;colspan=#colspan;width=#width -->\n",
      "  <div>\n",
      "    <!-- #include tool-help-first-column gui\\blocks\\tool-help-first-column.htm;help_ext=NoSpherA2_Add_Basissets_1;1 -->\n",
      "    <td align=\"center\" width=\"100%\">\n",
      "    $+\n",
      "        html.Snippet(\n",
      "            \"gui/snippets/input-text\",\n",
      "            \"name=NoSpherA2_add_basis\",\n",
      "            \"value=spy.GetParam('snum.NoSpherA2.basis_link')\",\n",
      "            \"onchange=spy.SetParam('snum.NoSpherA2.basis_link',html.GetValue('~name~'))\",\n",
      "            \"label=Download Link: \",\n",
      "        )\n",
      "    $-\n",
      "</td>\n",
      "  </div>\n",
      "  <!-- #include td-table-off gui\\balanced\\td-table-off.htm;1 -->\n",
      "</tr>\n"
     ]
    },
    {
     "data": {
      "text/plain": [
       "<\u001B[94mtr\u001B[39;49;00m \u001B[36malign\u001B[39;49;00m=\u001B[33m\"center\"\u001B[39;49;00m \u001B[36mname\u001B[39;49;00m=\u001B[33m\"SNUM_REFINEMENT_NSFF\"\u001B[39;49;00m>\n",
       " \u001B[37m<!-- #include tool-help-first-column gui\\blocks\\tool-help-first-column.htm;help_ext=NoSpherA2_Add_Basissets_1;1 -->\u001B[39;49;00m\n",
       " \u001B[37m<!-- #include row-table-on gui\\blocks\\row_table_on.htm;1;colspan=#colspan;width=#width -->\u001B[39;49;00m\n",
       " <\u001B[94mdiv\u001B[39;49;00m>\n",
       "  \u001B[37m<!-- #include tool-help-first-column gui\\blocks\\tool-help-first-column.htm;help_ext=NoSpherA2_Quick_Buttons;1 -->\u001B[39;49;00m\n",
       " </\u001B[94mdiv\u001B[39;49;00m>\n",
       " \u001B[37m<!-- #include td-table-off gui\\balanced\\td-table-off.htm;1 -->\u001B[39;49;00m\n",
       " <\u001B[94mtr\u001B[39;49;00m \u001B[36malign\u001B[39;49;00m=\u001B[33m\"center\"\u001B[39;49;00m \u001B[36mname\u001B[39;49;00m=\u001B[33m\"SNUM_REFINEMENT_NSFF\"\u001B[39;49;00m>\n",
       "  \u001B[37m<!-- #include tool-help-first-column gui\\blocks\\tool-help-first-column.htm;help_ext=NoSpherA2_Add_Basissets_1;1 -->\u001B[39;49;00m\n",
       "  \u001B[37m<!-- #include row-table-on gui\\blocks\\row_table_on.htm;1;colspan=#colspan;width=#width -->\u001B[39;49;00m\n",
       "  <\u001B[94mdiv\u001B[39;49;00m>\n",
       "   \u001B[37m<!-- #include tool-help-first-column gui\\blocks\\tool-help-first-column.htm;help_ext=NoSpherA2_Add_Basissets_1;1 -->\u001B[39;49;00m\n",
       "   <\u001B[94mtd\u001B[39;49;00m \u001B[36malign\u001B[39;49;00m=\u001B[33m\"center\"\u001B[39;49;00m \u001B[36mwidth\u001B[39;49;00m=\u001B[33m\"100%\"\u001B[39;49;00m>\n",
       "    $+\n",
       "        html.Snippet(\n",
       "            \"gui/snippets/input-text\",\n",
       "            \"name=NoSpherA2_add_basis\",\n",
       "            \"value=spy.GetParam('snum.NoSpherA2.basis_link')\",\n",
       "            \"onchange=spy.SetParam('snum.NoSpherA2.basis_link',html.GetValue('~name~'))\",\n",
       "            \"label=Download Link: \",\n",
       "        )\n",
       "    $-\n",
       "   </\u001B[94mtd\u001B[39;49;00m>\n",
       "  </\u001B[94mdiv\u001B[39;49;00m>\n",
       "  \u001B[37m<!-- #include td-table-off gui\\balanced\\td-table-off.htm;1 -->\u001B[39;49;00m\n",
       " </\u001B[94mtr\u001B[39;49;00m>\n",
       "</\u001B[94mtr\u001B[39;49;00m>"
      ]
     },
     "execution_count": 57,
     "metadata": {},
     "output_type": "execute_result"
    }
   ],
   "execution_count": 57
  },
  {
   "metadata": {
    "ExecuteTime": {
     "end_time": "2025-07-07T19:00:12.322133Z",
     "start_time": "2025-07-07T19:00:12.318827Z"
    }
   },
   "cell_type": "code",
   "source": [
    "first_comment = include_comment(name=\"tool-h3\", path=\"gui/blocks/tool-h3.htm\",\n",
    "                                other_pars=['image=#image', 'colspan=1', '1'])\n",
    "html_temp = str(first_comment) + \"\\n\" + str(table2).replace(\"<div>\", \"\").replace(\"</div>\", \"\")\n",
    "html_final = []\n",
    "for i in html_temp.split(\"\\n\"):\n",
    "    if \"#include\" in i:\n",
    "        html_final.append(re.sub(r\"\\s+<\", \"<\", i))\n",
    "    else:\n",
    "        html_final.append(i)\n",
    "with open(\"h3-refine_NoSpherA2-Basis.htm\", \"w\") as f:\n",
    "    f.write(\"\\n\".join(html_final))"
   ],
   "id": "8bf063e3a851cbf6",
   "outputs": [],
   "execution_count": 65
  },
  {
   "metadata": {
    "ExecuteTime": {
     "end_time": "2025-07-07T19:00:01.427599Z",
     "start_time": "2025-07-07T19:00:01.424521Z"
    }
   },
   "cell_type": "code",
   "source": "table1",
   "id": "81cb61f10eb718a3",
   "outputs": [
    {
     "data": {
      "text/plain": [
       "<\u001B[94mtr\u001B[39;49;00m \u001B[36malign\u001B[39;49;00m=\u001B[33m\"left\"\u001B[39;49;00m \u001B[36mname\u001B[39;49;00m=\u001B[33m\"NAME\"\u001B[39;49;00m \u001B[36mwidth\u001B[39;49;00m=\u001B[33m\"100%\"\u001B[39;49;00m>\n",
       " \u001B[37m<!-- #include tool-help-first-column gui\\blocks\\tool-help-first-column.htm;help_ext=#help_ext;1 -->\u001B[39;49;00m\n",
       " \u001B[37m<!-- #include row-table-on gui\\blocks\\row_table_on.htm;1;colspan=#colspan;width=#width -->\u001B[39;49;00m\n",
       " <\u001B[94mdiv\u001B[39;49;00m>\n",
       "  \u001B[37m<!-- #include tool-help-first-column gui/blocks/tool-help-first-column.htm;help_ext=NoSpherA2_Quick_Buttons;1 -->\u001B[39;49;00m\n",
       " </\u001B[94mdiv\u001B[39;49;00m>\n",
       " \u001B[37m<!-- #include td-table-off gui\\balanced\\td-table-off.htm;1 -->\u001B[39;49;00m\n",
       "</\u001B[94mtr\u001B[39;49;00m>"
      ]
     },
     "execution_count": 64,
     "metadata": {},
     "output_type": "execute_result"
    }
   ],
   "execution_count": 64
  },
  {
   "metadata": {
    "ExecuteTime": {
     "end_time": "2025-07-07T17:10:33.896147Z",
     "start_time": "2025-07-07T17:10:33.893825Z"
    }
   },
   "cell_type": "code",
   "source": [
    "print(GeneralComponent(\n",
    "    \"gui/snippets/input-text\",\n",
    "    name=\"NoSpherA2_add_basis\",\n",
    "    value=\"spy.GetParam('snum.NoSpherA2.basis_link')\",\n",
    "    onchange=\"spy.SetParam('snum.NoSpherA2.basis_link',html.GetValue('~name~'))\",\n",
    "    label=\"Download Link: \",\n",
    "    td_comp={\"width\": \"100%\"}\n",
    ").dominate\n",
    "      )"
   ],
   "id": "f0319e9110439d0b",
   "outputs": [
    {
     "name": "stdout",
     "output_type": "stream",
     "text": [
      "<td width=\"100%\">\n",
      "    $+\n",
      "        html.Snippet(\n",
      "            \"gui/snippets/input-text\",\n",
      "            \"name=NoSpherA2_add_basis\",\n",
      "            \"value=spy.GetParam('snum.NoSpherA2.basis_link')\",\n",
      "            \"onchange=spy.SetParam('snum.NoSpherA2.basis_link',html.GetValue('~name~'))\",\n",
      "            \"label=Download Link: \",\n",
      "        )\n",
      "    $-\n",
      "</td>\n"
     ]
    }
   ],
   "execution_count": 33
  },
  {
   "metadata": {},
   "cell_type": "code",
   "outputs": [],
   "execution_count": null,
   "source": "",
   "id": "2b9e532b67e94be0"
  }
 ],
 "metadata": {
  "kernelspec": {
   "display_name": "Python 3",
   "language": "python",
   "name": "python3"
  },
  "language_info": {
   "codemirror_mode": {
    "name": "ipython",
    "version": 2
   },
   "file_extension": ".py",
   "mimetype": "text/x-python",
   "name": "python",
   "nbconvert_exporter": "python",
   "pygments_lexer": "ipython2",
   "version": "2.7.6"
  }
 },
 "nbformat": 4,
 "nbformat_minor": 5
}
