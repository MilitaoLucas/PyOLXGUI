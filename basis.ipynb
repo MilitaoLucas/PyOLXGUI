{
 "cells": [
  {
   "cell_type": "code",
   "id": "initial_id",
   "metadata": {
    "collapsed": true,
    "ExecuteTime": {
     "end_time": "2025-06-28T18:33:52.949023Z",
     "start_time": "2025-06-28T18:33:52.940884Z"
    }
   },
   "source": [
    "import os\n",
    "from importlib import reload\n",
    "import ast\n",
    "\n",
    "import olx_gui.components.item_component\n",
    "import olx_gui.components.table\n",
    "import temp.blocks\n",
    "reload(temp.blocks)\n",
    "reload(olx_gui.components.item_component)\n",
    "reload(olx_gui.components.table)\n",
    "from olx_gui.components.item_component import *\n",
    "from olx_gui.components.table import *\n",
    "from dotenv import load_dotenv, set_key\n",
    "import re\n",
    "lexer = HtmlLexer()\n",
    "formatter = TerminalFormatter() # This will output ANSI escape codes\n",
    "from bs4 import BeautifulSoup\n",
    "import sys\n",
    "from olexpy import PreprocessHtml"
   ],
   "outputs": [],
   "execution_count": 33
  },
  {
   "metadata": {
    "ExecuteTime": {
     "end_time": "2025-06-28T20:40:42.990471Z",
     "start_time": "2025-06-28T20:40:42.981880Z"
    }
   },
   "cell_type": "code",
   "source": [
    "cfg = TableConfig(tr1_parameters=\n",
    "                  {\n",
    "                      \"ALIGN\": \"left\",\n",
    "                      \"NAME\":'SNUM_REFINEMENT_NSFF',\n",
    "                      \"width\":\"100%\",\n",
    "                  },\n",
    "                td1_parameters= {\n",
    "                    \"colspan\":\"2\"\n",
    "                }\n",
    "\n",
    ")\n",
    "\n",
    "with td(width=\"8%\", align=\"left\") as charge_input:\n",
    "    input_(type=\"spin\",\n",
    "           name=\"SET_LINK\",\n",
    "           width=\"50\",\n",
    "           height=\"17\",\n",
    "           max=\"1000\",\n",
    "           min=\"-1000\",\n",
    "           bgcolor=\"spy.GetParam(gui.html.input_bg_colour)\",\n",
    "           value=\"$spy.GetParam(snum.NoSpherA2.charge)\",\n",
    "           onchange=\"spy.SetParam(snum.NoSpherA2.charge,html.GetValue(~name~))\"\n",
    "           )\n",
    "\n",
    "table1 = Table([[\n",
    "    GeneralComponent(\n",
    "        \"gui/snippets/input-text\",\n",
    "        name=\"NoSpherA2_add_basis\",\n",
    "        value=\"spy.GetParam('snum.NoSpherA2.basis_link')\",\n",
    "        onchange=\"spy.SetParam('snum.NoSpherA2.basis_link',html.GetValue('~name~'))\",\n",
    "        label=\"Download Link: \",\n",
    "        td_comp={\"width\": \"100%\"}\n",
    "        ).dominate\n",
    "    ]],\n",
    "    config=cfg,\n",
    "    comment_obj = include_comment(\n",
    "        name=\"tool-help-first-column\", path=\"gui/blocks/tool-help-first-column.htm\", other_pars=['help_ext=NoSpherA2_Options_2', '1']\n",
    ")\n",
    ")\n",
    "table1.raw_str()"
   ],
   "id": "76f26fbd8c6783b6",
   "outputs": [
    {
     "data": {
      "text/plain": [
       "'<tr ALIGN=\"left\" NAME=\"SNUM_REFINEMENT_NSFF\" width=\"100%\">\\n  <!-- #include tool-help-first-column gui/blocks/tool-help-first-column.htm;help_ext=NoSpherA2_Options_2;1 -->\\n  <td colspan=\"2\">\\n    <table Xbgcolor=\"#ffaaaa\" border=\"0\" cellpadding=\"0\" cellspacing=\"0\" width=\"100%\">\\n      <tr Xbgcolor=\"#ffffaa\">\\n        <tr bgcolor=\"$GetVar(HtmlTableGroupBgColour)\">\\n          <td width=\"100%\">\\n    $+\\n        html.Snippet(\\n            \"gui/snippets/input-text\",\\n            \"name=NoSpherA2_add_basis\",\\n            \"value=spy.GetParam(\\'snum.NoSpherA2.basis_link\\')\",\\n            \"onchange=spy.SetParam(\\'snum.NoSpherA2.basis_link\\',html.GetValue(\\'~name~\\'))\",\\n            \"label=Download Link: \",\\n        )\\n    $-\\n</td>\\n        </tr>\\n      </tr>\\n    </table>\\n  </td>\\n</tr>'"
      ]
     },
     "execution_count": 105,
     "metadata": {},
     "output_type": "execute_result"
    }
   ],
   "execution_count": 105
  },
  {
   "metadata": {
    "ExecuteTime": {
     "end_time": "2025-06-28T20:45:21.051479Z",
     "start_time": "2025-06-28T20:45:21.043633Z"
    }
   },
   "cell_type": "code",
   "source": [
    "first_comment = include_comment(name=\"tool-h3\", path=\"gui/blocks/tool-h3.htm\",\n",
    "                                other_pars=['image=#image', 'colspan=1', '1'])\n",
    "html_final = str(first_comment) + \"\\n\" + str(table1)\n",
    "with open(\"h3-refine_NoSpherA2-Basis.htm\", \"w\") as f:\n",
    "    f.write(html_final)"
   ],
   "id": "8bf063e3a851cbf6",
   "outputs": [],
   "execution_count": 108
  },
  {
   "metadata": {
    "ExecuteTime": {
     "end_time": "2025-06-28T20:41:41.747531Z",
     "start_time": "2025-06-28T20:41:41.741870Z"
    }
   },
   "cell_type": "code",
   "source": "table1",
   "id": "81cb61f10eb718a3",
   "outputs": [
    {
     "data": {
      "text/plain": [
       "<\u001B[94mtr\u001B[39;49;00m \u001B[36malign\u001B[39;49;00m=\u001B[33m\"left\"\u001B[39;49;00m \u001B[36mname\u001B[39;49;00m=\u001B[33m\"SNUM_REFINEMENT_NSFF\"\u001B[39;49;00m \u001B[36mwidth\u001B[39;49;00m=\u001B[33m\"100%\"\u001B[39;49;00m>\n",
       " \u001B[37m<!-- #include tool-help-first-column gui/blocks/tool-help-first-column.htm;help_ext=NoSpherA2_Options_2;1 -->\u001B[39;49;00m\n",
       " <\u001B[94mtd\u001B[39;49;00m \u001B[36mcolspan\u001B[39;49;00m=\u001B[33m\"2\"\u001B[39;49;00m>\n",
       "  <\u001B[94mtable\u001B[39;49;00m \u001B[36mborder\u001B[39;49;00m=\u001B[33m\"0\"\u001B[39;49;00m \u001B[36mcellpadding\u001B[39;49;00m=\u001B[33m\"0\"\u001B[39;49;00m \u001B[36mcellspacing\u001B[39;49;00m=\u001B[33m\"0\"\u001B[39;49;00m \u001B[36mwidth\u001B[39;49;00m=\u001B[33m\"100%\"\u001B[39;49;00m \u001B[36mxbgcolor\u001B[39;49;00m=\u001B[33m\"#ffaaaa\"\u001B[39;49;00m>\n",
       "   <\u001B[94mtr\u001B[39;49;00m \u001B[36mxbgcolor\u001B[39;49;00m=\u001B[33m\"#ffffaa\"\u001B[39;49;00m>\n",
       "    <\u001B[94mtr\u001B[39;49;00m \u001B[36mbgcolor\u001B[39;49;00m=\u001B[33m\"$GetVar(HtmlTableGroupBgColour)\"\u001B[39;49;00m>\n",
       "     <\u001B[94mtd\u001B[39;49;00m \u001B[36mwidth\u001B[39;49;00m=\u001B[33m\"100%\"\u001B[39;49;00m>\n",
       "      $+\n",
       "        html.Snippet(\n",
       "            \"gui/snippets/input-text\",\n",
       "            \"name=NoSpherA2_add_basis\",\n",
       "            \"value=spy.GetParam('snum.NoSpherA2.basis_link')\",\n",
       "            \"onchange=spy.SetParam('snum.NoSpherA2.basis_link',html.GetValue('~name~'))\",\n",
       "            \"label=Download Link: \",\n",
       "        )\n",
       "    $-\n",
       "     </\u001B[94mtd\u001B[39;49;00m>\n",
       "    </\u001B[94mtr\u001B[39;49;00m>\n",
       "   </\u001B[94mtr\u001B[39;49;00m>\n",
       "  </\u001B[94mtable\u001B[39;49;00m>\n",
       " </\u001B[94mtd\u001B[39;49;00m>\n",
       "</\u001B[94mtr\u001B[39;49;00m>"
      ]
     },
     "execution_count": 107,
     "metadata": {},
     "output_type": "execute_result"
    }
   ],
   "execution_count": 107
  },
  {
   "metadata": {
    "ExecuteTime": {
     "end_time": "2025-06-28T20:52:37.973051Z",
     "start_time": "2025-06-28T20:52:37.963693Z"
    }
   },
   "cell_type": "code",
   "source": "print(PreprocessHtml(table1.raw_str()))",
   "id": "14e6fe5eaba11b82",
   "outputs": [
    {
     "name": "stdout",
     "output_type": "stream",
     "text": [
      "<tr ALIGN=\"left\" NAME=\"SNUM_REFINEMENT_NSFF\" width=\"100%\">\n",
      "  <!-- #include tool-help-first-column gui/blocks/tool-help-first-column.htm;help_ext=NoSpherA2_Options_2;1 -->\n",
      "  <td colspan=\"2\">\n",
      "    <table Xbgcolor=\"#ffaaaa\" border=\"0\" cellpadding=\"0\" cellspacing=\"0\" width=\"100%\">\n",
      "      <tr Xbgcolor=\"#ffffaa\">\n",
      "        <tr bgcolor=\"$GetVar(HtmlTableGroupBgColour)\">\n",
      "          <td width=\"100%\">\n",
      "    $+\n",
      "        html.Snippet(\n",
      "            \"gui/snippets/input-text\",\n",
      "            \"name=NoSpherA2_add_basis\",\n",
      "            \"value=spy.GetParam('snum.NoSpherA2.basis_link')\",\n",
      "            \"onchange=spy.SetParam('snum.NoSpherA2.basis_link',html.GetValue('~name~'))\",\n",
      "            \"label=Download Link: \",\n",
      "        )\n",
      "    $-\n",
      "</td>\n",
      "        </tr>\n",
      "      </tr>\n",
      "    </table>\n",
      "  </td>\n",
      "</tr>\n"
     ]
    }
   ],
   "execution_count": 110
  },
  {
   "metadata": {},
   "cell_type": "code",
   "outputs": [],
   "execution_count": null,
   "source": "",
   "id": "f0319e9110439d0b"
  }
 ],
 "metadata": {
  "kernelspec": {
   "display_name": "Python 3",
   "language": "python",
   "name": "python3"
  },
  "language_info": {
   "codemirror_mode": {
    "name": "ipython",
    "version": 2
   },
   "file_extension": ".py",
   "mimetype": "text/x-python",
   "name": "python",
   "nbconvert_exporter": "python",
   "pygments_lexer": "ipython2",
   "version": "2.7.6"
  }
 },
 "nbformat": 4,
 "nbformat_minor": 5
}
