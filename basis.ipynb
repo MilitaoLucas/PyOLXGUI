{
 "cells": [
  {
   "metadata": {
    "ExecuteTime": {
     "end_time": "2025-07-07T23:15:24.911928Z",
     "start_time": "2025-07-07T23:15:24.902239Z"
    }
   },
   "cell_type": "code",
   "source": [
    "import os\n",
    "from importlib import reload\n",
    "import ast\n",
    "\n",
    "import olx_gui.components.item_component\n",
    "import olx_gui.components.table\n",
    "import olx_gui.components.tableOriginalComponents\n",
    "import temp.blocks\n",
    "reload(temp.blocks)\n",
    "reload(olx_gui.components.item_component)\n",
    "reload(olx_gui.components.table)\n",
    "reload(olx_gui.components.tableOriginalComponents)\n",
    "from olx_gui.components.item_component import *\n",
    "from olx_gui.components.tableOriginalComponents import *\n",
    "from olx_gui.components.table import *\n",
    "from dotenv import load_dotenv, set_key\n",
    "import re\n",
    "lexer = HtmlLexer()\n",
    "formatter = TerminalFormatter() # This will output ANSI escape codes\n",
    "from bs4 import BeautifulSoup\n",
    "import sys\n",
    "# from olexpy import PreprocessHtml"
   ],
   "id": "5b11793f021bdffb",
   "outputs": [],
   "execution_count": 49
  },
  {
   "metadata": {
    "ExecuteTime": {
     "end_time": "2025-07-07T23:17:24.723659Z",
     "start_time": "2025-07-07T23:17:24.715955Z"
    }
   },
   "cell_type": "code",
   "source": [
    "cfg = TableConfig(tr1_parameters=\n",
    "                  {\n",
    "                      \"ALIGN\": \"center\",\n",
    "                      \"NAME\":'SNUM_REFINEMENT_NSFF',\n",
    "                  },\n",
    "                table1_parameters = {\n",
    "                     \"width\":\"50%\"\n",
    "                },\n",
    ")\n",
    "\n",
    "table = TableOriginal(rows=[\n",
    "    [\n",
    "    include_comment(name=\"tool-help-first-column\",\n",
    "                    path=r\"gui\\blocks\\tool-help-first-column.htm\",\n",
    "                    other_pars=['help_ext=NoSpherA2_Quick_Buttons', '1', \"width=100%\"]),\n",
    "    ],\n",
    "    [\n",
    "    GeneralComponent(\n",
    "        \"gui/snippets/input-text\",\n",
    "        name=\"NoSpherA2_add_basis\",\n",
    "        value=\"spy.GetParam('snum.NoSpherA2.basis_link')\",\n",
    "        onchange=\"spy.SetParam('snum.NoSpherA2.basis_link',html.GetValue('~name~'))\",\n",
    "        label=\"Download Link: \",\n",
    "        td_comp={\"width\": \"100%\", \"align\": \"center\"}\n",
    "        ).dominate,\n",
    "    ]],\n",
    "    help_ext=\"NoSpherA2_Add_Basissets_1\",\n",
    "    config=cfg,\n",
    ")\n",
    "table"
   ],
   "id": "c47e968d3044700d",
   "outputs": [
    {
     "data": {
      "text/plain": [
       "<\u001B[94mtr\u001B[39;49;00m \u001B[36malign\u001B[39;49;00m=\u001B[33m\"center\"\u001B[39;49;00m \u001B[36mname\u001B[39;49;00m=\u001B[33m\"SNUM_REFINEMENT_NSFF\"\u001B[39;49;00m>\n",
       " \u001B[37m<!-- #include tool-help-first-column gui\\blocks\\tool-help-first-column.htm;help_ext=NoSpherA2_Add_Basissets_1;1 -->\u001B[39;49;00m\n",
       " \u001B[37m<!-- #include row-table-on gui\\blocks\\row_table_on.htm;1;colspan=#colspan;width=100 -->\u001B[39;49;00m\n",
       " <\u001B[94mdiv\u001B[39;49;00m>\n",
       "  \u001B[37m<!-- #include tool-help-first-column gui\\blocks\\tool-help-first-column.htm;help_ext=NoSpherA2_Quick_Buttons;1;width=100% -->\u001B[39;49;00m\n",
       " </\u001B[94mdiv\u001B[39;49;00m>\n",
       " \u001B[37m<!-- #include td-table-off gui\\balanced\\td-table-off.htm;1 -->\u001B[39;49;00m\n",
       " <\u001B[94mtr\u001B[39;49;00m \u001B[36malign\u001B[39;49;00m=\u001B[33m\"center\"\u001B[39;49;00m \u001B[36mname\u001B[39;49;00m=\u001B[33m\"SNUM_REFINEMENT_NSFF\"\u001B[39;49;00m>\n",
       "  \u001B[37m<!-- #include tool-help-first-column gui\\blocks\\tool-help-first-column.htm;help_ext=NoSpherA2_Add_Basissets_1;1 -->\u001B[39;49;00m\n",
       "  \u001B[37m<!-- #include row-table-on gui\\blocks\\row_table_on.htm;1;colspan=#colspan;width=100 -->\u001B[39;49;00m\n",
       "  <\u001B[94mdiv\u001B[39;49;00m>\n",
       "   <\u001B[94mtd\u001B[39;49;00m \u001B[36malign\u001B[39;49;00m=\u001B[33m\"center\"\u001B[39;49;00m \u001B[36mwidth\u001B[39;49;00m=\u001B[33m\"100%\"\u001B[39;49;00m>\n",
       "    $+\n",
       "        html.Snippet(\n",
       "            \"gui/snippets/input-text\",\n",
       "            \"name=NoSpherA2_add_basis\",\n",
       "            \"value=spy.GetParam('snum.NoSpherA2.basis_link')\",\n",
       "            \"onchange=spy.SetParam('snum.NoSpherA2.basis_link',html.GetValue('~name~'))\",\n",
       "            \"label=Download Link: \",\n",
       "        )\n",
       "    $-\n",
       "   </\u001B[94mtd\u001B[39;49;00m>\n",
       "  </\u001B[94mdiv\u001B[39;49;00m>\n",
       "  \u001B[37m<!-- #include td-table-off gui\\balanced\\td-table-off.htm;1 -->\u001B[39;49;00m\n",
       " </\u001B[94mtr\u001B[39;49;00m>\n",
       "</\u001B[94mtr\u001B[39;49;00m>"
      ]
     },
     "execution_count": 62,
     "metadata": {},
     "output_type": "execute_result"
    }
   ],
   "execution_count": 62
  },
  {
   "metadata": {
    "ExecuteTime": {
     "end_time": "2025-07-07T23:17:25.184931Z",
     "start_time": "2025-07-07T23:17:25.179279Z"
    }
   },
   "cell_type": "code",
   "source": [
    "first_comment = include_comment(name=\"tool-h3\", path=\"gui/blocks/tool-h3.htm\",\n",
    "                                other_pars=['image=#image', 'colspan=1', '1'])\n",
    "html_temp = str(first_comment) + \"\\n\" + str(table).replace(\"<div>\", \"\").replace(\"</div>\", \"\")\n",
    "html_final = []\n",
    "for i in html_temp.split(\"\\n\"):\n",
    "    if \"#include\" in i:\n",
    "        html_final.append(re.sub(r\"\\s+<\", \"<\", i))\n",
    "    else:\n",
    "        html_final.append(i)\n",
    "with open(\"h3-refine_NoSpherA2-Basis.htm\", \"w\") as f:\n",
    "    f.write(\"\\n\".join(html_final))"
   ],
   "id": "305f5724084e3b3c",
   "outputs": [],
   "execution_count": 63
  },
  {
   "metadata": {
    "ExecuteTime": {
     "end_time": "2025-07-07T23:16:13.366893Z",
     "start_time": "2025-07-07T23:16:13.359332Z"
    }
   },
   "cell_type": "code",
   "source": "table1",
   "id": "ab2bab4c8d682fa1",
   "outputs": [
    {
     "data": {
      "text/plain": [
       "<\u001B[94mtr\u001B[39;49;00m \u001B[36malign\u001B[39;49;00m=\u001B[33m\"left\"\u001B[39;49;00m \u001B[36mname\u001B[39;49;00m=\u001B[33m\"SNUM_REFINEMENT_ADD_BASISSET\"\u001B[39;49;00m \u001B[36mwidth\u001B[39;49;00m=\u001B[33m\"100%\"\u001B[39;49;00m>\n",
       " \u001B[37m<!-- #include tool-help-first-column gui/blocks/tool-help-first-column.htm;help_ext=NoSpherA2_Options_2;1 -->\u001B[39;49;00m\n",
       " <\u001B[94mtd\u001B[39;49;00m \u001B[36mcolspan\u001B[39;49;00m=\u001B[33m\"1\"\u001B[39;49;00m>\n",
       "  <\u001B[94mtable\u001B[39;49;00m \u001B[36mborder\u001B[39;49;00m=\u001B[33m\"0\"\u001B[39;49;00m \u001B[36mcellpadding\u001B[39;49;00m=\u001B[33m\"0\"\u001B[39;49;00m \u001B[36mcellspacing\u001B[39;49;00m=\u001B[33m\"0\"\u001B[39;49;00m \u001B[36mwidth\u001B[39;49;00m=\u001B[33m\"100%\"\u001B[39;49;00m \u001B[36mxbgcolor\u001B[39;49;00m=\u001B[33m\"#ffaaaa\"\u001B[39;49;00m>\n",
       "   <\u001B[94mtr\u001B[39;49;00m \u001B[36mxbgcolor\u001B[39;49;00m=\u001B[33m\"#ffffaa\"\u001B[39;49;00m>\n",
       "    <\u001B[94mtr\u001B[39;49;00m \u001B[36mbgcolor\u001B[39;49;00m=\u001B[33m\"$GetVar(HtmlTableGroupBgColour)\"\u001B[39;49;00m>\n",
       "     \u001B[37m<!-- #include tool-help-first-column gui/blocks/tool-help-first-column.htm;help_ext=NoSpherA2_Options_1;1 -->\u001B[39;49;00m\n",
       "     <\u001B[94mtd\u001B[39;49;00m \u001B[36malign\u001B[39;49;00m=\u001B[33m\"left\"\u001B[39;49;00m \u001B[36mwidth\u001B[39;49;00m=\u001B[33m\"15%\"\u001B[39;49;00m>\n",
       "      <\u001B[94mb\u001B[39;49;00m>\n",
       "       Basis Set\n",
       "      </\u001B[94mb\u001B[39;49;00m>\n",
       "     </\u001B[94mtd\u001B[39;49;00m>\n",
       "     <\u001B[94mtd\u001B[39;49;00m \u001B[36mwidth\u001B[39;49;00m=\u001B[33m\"100%\"\u001B[39;49;00m>\n",
       "      $+\n",
       "        html.Snippet(\n",
       "            \"gui/snippets/input-text\",\n",
       "            \"name=NoSpherA2_add_basis\",\n",
       "            \"value=spy.GetParam('snum.NoSpherA2.basis_link')\",\n",
       "            \"onchange=spy.SetParam('snum.NoSpherA2.basis_link',html.GetValue('~name~'))\",\n",
       "            \"label=Download Link: \",\n",
       "        )\n",
       "    $-\n",
       "     </\u001B[94mtd\u001B[39;49;00m>\n",
       "    </\u001B[94mtr\u001B[39;49;00m>\n",
       "   </\u001B[94mtr\u001B[39;49;00m>\n",
       "  </\u001B[94mtable\u001B[39;49;00m>\n",
       " </\u001B[94mtd\u001B[39;49;00m>\n",
       "</\u001B[94mtr\u001B[39;49;00m>"
      ]
     },
     "execution_count": 55,
     "metadata": {},
     "output_type": "execute_result"
    }
   ],
   "execution_count": 55
  },
  {
   "metadata": {},
   "cell_type": "code",
   "outputs": [],
   "execution_count": null,
   "source": [
    "print(GeneralComponent(\n",
    "    \"gui/snippets/input-text\",\n",
    "    name=\"NoSpherA2_add_basis\",\n",
    "    value=\"spy.GetParam('snum.NoSpherA2.basis_link')\",\n",
    "    onchange=\"spy.SetParam('snum.NoSpherA2.basis_link',html.GetValue('~name~'))\",\n",
    "    label=\"Download Link: \",\n",
    "    td_comp={\"width\": \"100%\"}\n",
    ").dominate\n",
    "      )"
   ],
   "id": "a688cc652d984daa"
  },
  {
   "metadata": {},
   "cell_type": "code",
   "outputs": [],
   "execution_count": null,
   "source": "",
   "id": "94830aa5a845403c"
  }
 ],
 "metadata": {
  "kernelspec": {
   "display_name": "Python 3",
   "language": "python",
   "name": "python3"
  },
  "language_info": {
   "codemirror_mode": {
    "name": "ipython",
    "version": 2
   },
   "file_extension": ".py",
   "mimetype": "text/x-python",
   "name": "python",
   "nbconvert_exporter": "python",
   "pygments_lexer": "ipython2",
   "version": "2.7.6"
  }
 },
 "nbformat": 4,
 "nbformat_minor": 5
}
