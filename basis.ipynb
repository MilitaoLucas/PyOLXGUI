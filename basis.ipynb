{
 "cells": [
  {
   "metadata": {
    "ExecuteTime": {
     "end_time": "2025-08-11T16:55:44.669542Z",
     "start_time": "2025-08-11T16:55:44.586229Z"
    }
   },
   "cell_type": "code",
   "source": [
    "import os\n",
    "from importlib import reload\n",
    "import ast\n",
    "\n",
    "import olx_gui.components.item_component\n",
    "import olx_gui.components.table\n",
    "import olx_gui.components.tableOriginalComponents\n",
    "from olx_gui.components.item_component import InputCheckbox\n",
    "\n",
    "reload(olx_gui.components.item_component)\n",
    "reload(olx_gui.components.table)\n",
    "reload(olx_gui.components.tableOriginalComponents)\n",
    "from olx_gui.components.item_component import *\n",
    "from olx_gui.components.tableOriginalComponents import *\n",
    "from olx_gui.components.table import *\n",
    "from dotenv import load_dotenv, set_key\n",
    "import re\n",
    "lexer = HtmlLexer()\n",
    "formatter = TerminalFormatter() # This will output ANSI escape codes\n",
    "from bs4 import BeautifulSoup\n",
    "import sys\n",
    "# from olexpy import PreprocessHtml"
   ],
   "id": "6875bcbff5f41395",
   "outputs": [],
   "execution_count": 1
  },
  {
   "metadata": {
    "ExecuteTime": {
     "end_time": "2025-08-11T16:55:44.688568Z",
     "start_time": "2025-08-11T16:55:44.681211Z"
    }
   },
   "cell_type": "code",
   "source": [
    "cfg = TableConfig(tr1_parameters=\n",
    "                  {\n",
    "                      \"ALIGN\": \"center\",\n",
    "                      \"NAME\":'SNUM_REFINEMENT_NSFF',\n",
    "                  },\n",
    "                table1_parameters = {\n",
    "                     \"width\":\"100%\"\n",
    "                },\n",
    ")\n",
    "input_check = InputCheckbox(\n",
    "    name=\"NoSpherA2_bse_is_relativistic\",\n",
    "    txt_label=\"Relativistic\"\n",
    ")\n",
    "\n",
    "input_check[\"cellpadding\"] = \"1px\"\n",
    "table = TableOriginal(rows=[\n",
    "    [\n",
    "    # td(\n",
    "        tr(\n",
    "            td(\n",
    "            text_input(\n",
    "                    name=\"NoSpherA2_add_basis\",\n",
    "                    value=\"spy.GetParam('snum.NoSpherA2.basis_name')\",\n",
    "                    onchange=\"spy.SetParam('snum.NoSpherA2.basis_name',html.GetValue('~name~'))\",\n",
    "                    label=\"Basis Name: \",\n",
    "                    width=\"100%\"\n",
    "            ), width=\"100%\"\n",
    "            ),\n",
    "            td(\n",
    "                input_check, align=\"left\", width=\"100%\", valign=\"bottom\"\n",
    "            ),\n",
    "            td(\n",
    "            input_button(\"DownloadBasis\", \"Get Basis\", onclick=\"spy.NoSpherA2.fetch_basis(html.GetValue(NoSpherA2_add_basis),html.GetState(NoSpherA2_bse_is_relativistic))\", valign=\"bottom\"),\n",
    "                width=\"33.3%\" ,align=\"left\", valign=\"bottom\"\n",
    "        ))\n",
    "    # )\n",
    "    ]],\n",
    "    help_ext=\"NoSpherA2_Add_Basissets_1\",\n",
    "    config=cfg,\n",
    ")\n",
    "table"
   ],
   "id": "89b1d9e52e085f8b",
   "outputs": [
    {
     "data": {
      "text/plain": [
       "<\u001B[94mtr\u001B[39;49;00m \u001B[36malign\u001B[39;49;00m=\u001B[33m\"center\"\u001B[39;49;00m \u001B[36mname\u001B[39;49;00m=\u001B[33m\"SNUM_REFINEMENT_NSFF\"\u001B[39;49;00m>\n",
       " \u001B[37m<!-- #include tool-help-first-column gui\\blocks\\tool-help-first-column.htm;help_ext=NoSpherA2_Add_Basissets_1;1 -->\u001B[39;49;00m\n",
       " \u001B[37m<!-- #include row-table-on gui\\blocks\\row_table_on.htm;width=100;colspan=#colspan;1 -->\u001B[39;49;00m\n",
       " <\u001B[94mdiv\u001B[39;49;00m \u001B[36mwidth\u001B[39;49;00m=\u001B[33m\"100%\"\u001B[39;49;00m>\n",
       "  <\u001B[94mtr\u001B[39;49;00m>\n",
       "   <\u001B[94mtd\u001B[39;49;00m \u001B[36mwidth\u001B[39;49;00m=\u001B[33m\"100%\"\u001B[39;49;00m>\n",
       "    <\u001B[94minput\u001B[39;49;00m \u001B[36mbgcolor\u001B[39;49;00m=\u001B[33m\"GetVar('HtmlInputBgColour')\"\u001B[39;49;00m \u001B[36mdisabled\u001B[39;49;00m=\u001B[33m\"false\"\u001B[39;49;00m \u001B[36mfgcolor\u001B[39;49;00m=\u001B[33m\"GetVar(HtmlFontColour)\"\u001B[39;49;00m \u001B[36mheight\u001B[39;49;00m=\u001B[33m\"GetVar('HtmlInputHeight')\"\u001B[39;49;00m \u001B[36mlabel\u001B[39;49;00m=\u001B[33m\"Basis Name: \"\u001B[39;49;00m \u001B[36mmanage\u001B[39;49;00m=\u001B[33m\"false\"\u001B[39;49;00m \u001B[36mmultiline\u001B[39;49;00m=\u001B[33m\"false\"\u001B[39;49;00m \u001B[36mname\u001B[39;49;00m=\u001B[33m\"NoSpherA2_add_basis\"\u001B[39;49;00m \u001B[36monchange\u001B[39;49;00m=\u001B[33m\"spy.SetParam('snum.NoSpherA2.basis_name',html.GetValue('~name~'))\"\u001B[39;49;00m \u001B[36monleave\u001B[39;49;00m=\u001B[33m\"\"\u001B[39;49;00m \u001B[36monreturn\u001B[39;49;00m=\u001B[33m\"\"\u001B[39;49;00m \u001B[36mpassword\u001B[39;49;00m=\u001B[33m\"false\"\u001B[39;49;00m \u001B[36mtype\u001B[39;49;00m=\u001B[33m\"text\"\u001B[39;49;00m \u001B[36mvalign\u001B[39;49;00m=\u001B[33m\"center\"\u001B[39;49;00m \u001B[36mvalue\u001B[39;49;00m=\u001B[33m\"spy.GetParam('snum.NoSpherA2.basis_name')\"\u001B[39;49;00m \u001B[36mwidth\u001B[39;49;00m=\u001B[33m\"100%\"\u001B[39;49;00m/>\n",
       "   </\u001B[94mtd\u001B[39;49;00m>\n",
       "   <\u001B[94mtd\u001B[39;49;00m \u001B[36malign\u001B[39;49;00m=\u001B[33m\"left\"\u001B[39;49;00m \u001B[36mvalign\u001B[39;49;00m=\u001B[33m\"bottom\"\u001B[39;49;00m \u001B[36mwidth\u001B[39;49;00m=\u001B[33m\"100%\"\u001B[39;49;00m>\n",
       "    <\u001B[94mtable\u001B[39;49;00m \u001B[36mcellpadding\u001B[39;49;00m=\u001B[33m\"1px\"\u001B[39;49;00m \u001B[36mcellspacing\u001B[39;49;00m=\u001B[33m\"0\"\u001B[39;49;00m>\n",
       "     <\u001B[94mtr\u001B[39;49;00m>\n",
       "      <\u001B[94mtd\u001B[39;49;00m>\n",
       "       <\u001B[94mfont\u001B[39;49;00m \u001B[36msize\u001B[39;49;00m=\u001B[33m\"$GetVar('HtmlFontSizeControls')\"\u001B[39;49;00m>\n",
       "        <\u001B[94minput\u001B[39;49;00m \u001B[36mbgcolor\u001B[39;49;00m=\u001B[33m\"GetVar(HtmlTableBgColour)\"\u001B[39;49;00m \u001B[36mfgcolor\u001B[39;49;00m=\u001B[33m\"GetVar(HtmlFontColour)\"\u001B[39;49;00m \u001B[36mheight\u001B[39;49;00m=\u001B[33m\"20\"\u001B[39;49;00m \u001B[36mname\u001B[39;49;00m=\u001B[33m\"NoSpherA2_bse_is_relativistic\"\u001B[39;49;00m \u001B[36mtype\u001B[39;49;00m=\u001B[33m\"checkbox\"\u001B[39;49;00m/>\n",
       "       </\u001B[94mfont\u001B[39;49;00m>\n",
       "      </\u001B[94mtd\u001B[39;49;00m>\n",
       "      <\u001B[94mtd\u001B[39;49;00m \u001B[36malign\u001B[39;49;00m=\u001B[33m\"left\"\u001B[39;49;00m>\n",
       "       <\u001B[94mb\u001B[39;49;00m>\n",
       "        Relativistic\n",
       "       </\u001B[94mb\u001B[39;49;00m>\n",
       "      </\u001B[94mtd\u001B[39;49;00m>\n",
       "     </\u001B[94mtr\u001B[39;49;00m>\n",
       "    </\u001B[94mtable\u001B[39;49;00m>\n",
       "   </\u001B[94mtd\u001B[39;49;00m>\n",
       "   <\u001B[94mtd\u001B[39;49;00m \u001B[36malign\u001B[39;49;00m=\u001B[33m\"left\"\u001B[39;49;00m \u001B[36mvalign\u001B[39;49;00m=\u001B[33m\"bottom\"\u001B[39;49;00m \u001B[36mwidth\u001B[39;49;00m=\u001B[33m\"33.3%\"\u001B[39;49;00m>\n",
       "    <\u001B[94minput\u001B[39;49;00m \u001B[36mbgcolor\u001B[39;49;00m=\u001B[33m\"#8C8C8F\"\u001B[39;49;00m \u001B[36mcustom\u001B[39;49;00m=\u001B[33m\"GetVar(custom_button)\"\u001B[39;49;00m \u001B[36mdisabled\u001B[39;49;00m=\u001B[33m\"false\"\u001B[39;49;00m \u001B[36mfgcolor\u001B[39;49;00m=\u001B[33m\"#ffffff\"\u001B[39;49;00m \u001B[36mfit\u001B[39;49;00m=\u001B[33m\"false\"\u001B[39;49;00m \u001B[36mflat\u001B[39;49;00m=\u001B[33m\"GetVar(linkButton.flat)\"\u001B[39;49;00m \u001B[36mheight\u001B[39;49;00m=\u001B[33m\"20\"\u001B[39;49;00m \u001B[36mname\u001B[39;49;00m=\u001B[33m\"DownloadBasis\"\u001B[39;49;00m \u001B[36monclick\u001B[39;49;00m=\u001B[33m\"spy.NoSpherA2.fetch_basis(html.GetValue(NoSpherA2_add_basis),html.GetState(NoSpherA2_bse_is_relativistic))\"\u001B[39;49;00m \u001B[36mtype\u001B[39;49;00m=\u001B[33m\"button\"\u001B[39;49;00m \u001B[36mvalign\u001B[39;49;00m=\u001B[33m\"bottom\"\u001B[39;49;00m \u001B[36mvalue\u001B[39;49;00m=\u001B[33m\"Get Basis\"\u001B[39;49;00m/>\n",
       "   </\u001B[94mtd\u001B[39;49;00m>\n",
       "  </\u001B[94mtr\u001B[39;49;00m>\n",
       " </\u001B[94mdiv\u001B[39;49;00m>\n",
       " \u001B[37m<!-- #include td-table-off gui\\balanced\\td-table-off.htm;1 -->\u001B[39;49;00m\n",
       "</\u001B[94mtr\u001B[39;49;00m>"
      ]
     },
     "execution_count": 2,
     "metadata": {},
     "output_type": "execute_result"
    }
   ],
   "execution_count": 2
  },
  {
   "metadata": {
    "ExecuteTime": {
     "end_time": "2025-08-11T18:01:02.221124Z",
     "start_time": "2025-08-11T18:01:02.115884Z"
    }
   },
   "cell_type": "code",
   "source": [
    "first_comment = include_comment(name=\"tool-h3\", path=\"gui/blocks/tool-h3.htm\",\n",
    "                                other_pars=['image=#image', 'colspan=1', '1'])\n",
    "html_temp = str(first_comment) + \"\\n\" + str(table).replace(\"<div>\", \"\").replace(\"</div>\", \"\")\n",
    "html_final = []\n",
    "for i in html_temp.split(\"\\n\"):\n",
    "    if \"#include\" in i:\n",
    "        html_final.append(re.sub(r\"\\s+<\", \"<\", i))\n",
    "    else:\n",
    "        html_final.append(i)\n",
    "with open(\"h3-refine_NoSpherA2-Basis.htm\", \"w\") as f:\n",
    "    f.write(\"\\n\".join(html_final))\n",
    "\n",
    "with open(\"/tmp/olexcmd\", \"w\") as f:\n",
    "    f.write(\"html.Update\")"
   ],
   "id": "8399f7d28ce86715",
   "outputs": [
    {
     "ename": "NameError",
     "evalue": "name 'include_comment' is not defined",
     "output_type": "error",
     "traceback": [
      "\u001B[31m---------------------------------------------------------------------------\u001B[39m",
      "\u001B[31mNameError\u001B[39m                                 Traceback (most recent call last)",
      "\u001B[36mCell\u001B[39m\u001B[36m \u001B[39m\u001B[32mIn[1]\u001B[39m\u001B[32m, line 1\u001B[39m\n\u001B[32m----> \u001B[39m\u001B[32m1\u001B[39m first_comment = \u001B[43minclude_comment\u001B[49m(name=\u001B[33m\"\u001B[39m\u001B[33mtool-h3\u001B[39m\u001B[33m\"\u001B[39m, path=\u001B[33m\"\u001B[39m\u001B[33mgui/blocks/tool-h3.htm\u001B[39m\u001B[33m\"\u001B[39m,\n\u001B[32m      2\u001B[39m                                 other_pars=[\u001B[33m'\u001B[39m\u001B[33mimage=#image\u001B[39m\u001B[33m'\u001B[39m, \u001B[33m'\u001B[39m\u001B[33mcolspan=1\u001B[39m\u001B[33m'\u001B[39m, \u001B[33m'\u001B[39m\u001B[33m1\u001B[39m\u001B[33m'\u001B[39m])\n\u001B[32m      3\u001B[39m html_temp = \u001B[38;5;28mstr\u001B[39m(first_comment) + \u001B[33m\"\u001B[39m\u001B[38;5;130;01m\\n\u001B[39;00m\u001B[33m\"\u001B[39m + \u001B[38;5;28mstr\u001B[39m(table).replace(\u001B[33m\"\u001B[39m\u001B[33m<div>\u001B[39m\u001B[33m\"\u001B[39m, \u001B[33m\"\u001B[39m\u001B[33m\"\u001B[39m).replace(\u001B[33m\"\u001B[39m\u001B[33m</div>\u001B[39m\u001B[33m\"\u001B[39m, \u001B[33m\"\u001B[39m\u001B[33m\"\u001B[39m)\n\u001B[32m      4\u001B[39m html_final = []\n",
      "\u001B[31mNameError\u001B[39m: name 'include_comment' is not defined"
     ]
    }
   ],
   "execution_count": 1
  },
  {
   "metadata": {
    "ExecuteTime": {
     "end_time": "2025-07-31T12:13:32.602199Z",
     "start_time": "2025-07-31T12:13:32.588878Z"
    }
   },
   "cell_type": "code",
   "source": "print(InputCheckbox(\"test\", \"test\"))",
   "id": "67d52529af9ad1da",
   "outputs": [
    {
     "name": "stdout",
     "output_type": "stream",
     "text": [
      "<table cellpadding=\"0\" cellspacing=\"0\">\n",
      "  <tr>\n",
      "    <td>\n",
      "      <font size=\"$GetVar('HtmlFontSizeControls')\">\n",
      "        <input bgcolor=\"GetVar(HtmlTableBgColour)\" fgcolor=\"GetVar(HtmlFontColour)\" height=\"20\" name=\"test\" type=\"checkbox\">\n",
      "      </font>\n",
      "    </td>\n",
      "    <td align=\"left\">\n",
      "      <b>test</b>\n",
      "    </td>\n",
      "  </tr>\n",
      "</table>\n"
     ]
    }
   ],
   "execution_count": 4
  },
  {
   "metadata": {
    "ExecuteTime": {
     "end_time": "2025-07-13T22:29:39.971333Z",
     "start_time": "2025-07-13T22:29:39.967212Z"
    }
   },
   "cell_type": "code",
   "source": [
    "print(GeneralComponent(\n",
    "    \"gui/snippets/input-text\",\n",
    "    name=\"NoSpherA2_add_basis\",\n",
    "    value=\"spy.GetParam('snum.NoSpherA2.basis_link')\",\n",
    "    onchange=\"spy.SetParam('snum.NoSpherA2.basis_link',html.GetValue('~name~'))\",\n",
    "    label=\"Download Link: \",\n",
    "    td_comp={\"width\": \"100%\"}\n",
    ").dominate\n",
    "      )"
   ],
   "id": "e03551bc9e824525",
   "outputs": [
    {
     "name": "stdout",
     "output_type": "stream",
     "text": [
      "<td width=\"100%\">\n",
      "    $+\n",
      "        html.Snippet(\n",
      "            \"gui/snippets/input-text\",\n",
      "            \"name=NoSpherA2_add_basis\",\n",
      "            \"value=spy.GetParam('snum.NoSpherA2.basis_link')\",\n",
      "            \"onchange=spy.SetParam('snum.NoSpherA2.basis_link',html.GetValue('~name~'))\",\n",
      "            \"label=Download Link: \",\n",
      "        )\n",
      "    $-\n",
      "</td>\n"
     ]
    }
   ],
   "execution_count": 40
  },
  {
   "metadata": {
    "ExecuteTime": {
     "end_time": "2025-07-16T18:00:45.213716Z",
     "start_time": "2025-07-16T18:00:45.206268Z"
    }
   },
   "cell_type": "code",
   "source": "str(tr())",
   "id": "847fae2e4391e066",
   "outputs": [
    {
     "data": {
      "text/plain": [
       "'<tr></tr>'"
      ]
     },
     "execution_count": 23,
     "metadata": {},
     "output_type": "execute_result"
    }
   ],
   "execution_count": 23
  },
  {
   "metadata": {},
   "cell_type": "code",
   "outputs": [],
   "execution_count": null,
   "source": "",
   "id": "7ccdb70603b85e5a"
  }
 ],
 "metadata": {
  "kernelspec": {
   "display_name": "Python 3",
   "language": "python",
   "name": "python3"
  },
  "language_info": {
   "codemirror_mode": {
    "name": "ipython",
    "version": 2
   },
   "file_extension": ".py",
   "mimetype": "text/x-python",
   "name": "python",
   "nbconvert_exporter": "python",
   "pygments_lexer": "ipython2",
   "version": "2.7.6"
  }
 },
 "nbformat": 4,
 "nbformat_minor": 5
}
