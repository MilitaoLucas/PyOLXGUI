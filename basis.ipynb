{
 "cells": [
  {
   "metadata": {
    "ExecuteTime": {
     "end_time": "2025-08-20T15:59:58.548545Z",
     "start_time": "2025-08-20T15:59:58.540568Z"
    }
   },
   "cell_type": "code",
   "source": [
    "import os\n",
    "from importlib import reload\n",
    "import ast\n",
    "\n",
    "import olx_gui.components.item_component\n",
    "import olx_gui.components.table\n",
    "import olx_gui.components.tableRefactored\n",
    "from olx_gui.components.item_component import InputCheckbox\n",
    "\n",
    "reload(olx_gui.components.item_component)\n",
    "reload(olx_gui.components.table)\n",
    "from olx_gui.components.item_component import *\n",
    "from olx_gui.components.tableRefactored import *\n",
    "from olx_gui.components.table import *\n",
    "from dotenv import load_dotenv, set_key\n",
    "import re\n",
    "lexer = HtmlLexer()\n",
    "formatter = TerminalFormatter() # This will output ANSI escape codes\n",
    "from bs4 import BeautifulSoup\n",
    "import sys\n",
    "# from olexpy import PreprocessHtml"
   ],
   "id": "6875bcbff5f41395",
   "outputs": [],
   "execution_count": 3
  },
  {
   "metadata": {
    "ExecuteTime": {
     "end_time": "2025-08-20T15:59:59.043535Z",
     "start_time": "2025-08-20T15:59:59.022306Z"
    }
   },
   "cell_type": "code",
   "source": [
    "cfg = TableConfig(tr1_parameters=\n",
    "                  {\n",
    "                      \"ALIGN\": \"center\",\n",
    "                      \"NAME\":'SNUM_REFINEMENT_NSFF',\n",
    "                  },\n",
    "                table1_parameters = {\n",
    "                     \"width\":\"100%\"\n",
    "                },\n",
    ")\n",
    "input_check = InputCheckbox(\n",
    "    name=\"NoSpherA2_bse_is_relativistic\",\n",
    "    txt_label=\"Relativistic\"\n",
    ")\n",
    "\n",
    "input_check[\"cellpadding\"] = \"1px\"\n",
    "table = TableOriginal(rows=[\n",
    "    [\n",
    "    # td(\n",
    "        tr(\n",
    "            td(\n",
    "            text_input(\n",
    "                    name=\"NoSpherA2_add_basis\",\n",
    "                    value=\"spy.GetParam('snum.NoSpherA2.basis_name')\",\n",
    "                    onchange=\"spy.SetParam('snum.NoSpherA2.basis_name',html.GetValue('~name~'))\",\n",
    "                    label=\"Basis Name: \",\n",
    "                    width=\"100%\"\n",
    "            ), width=\"100%\"\n",
    "            ),\n",
    "            td(\n",
    "                input_check, align=\"left\", width=\"100%\", valign=\"bottom\"\n",
    "            ),\n",
    "            td(\n",
    "            input_button(\"DownloadBasis\", \"Get Basis\", onclick=\"spy.NoSpherA2.fetch_basis(html.GetValue(NoSpherA2_add_basis),html.GetState(NoSpherA2_bse_is_relativistic))\", valign=\"bottom\"),\n",
    "                width=\"33.3%\" ,align=\"left\", valign=\"bottom\"\n",
    "        ))\n",
    "    # )\n",
    "    ]],\n",
    "    help_ext=\"NoSpherA2_Add_Basissets_1\",\n",
    "    config=cfg,\n",
    ")\n",
    "table"
   ],
   "id": "89b1d9e52e085f8b",
   "outputs": [
    {
     "ename": "NameError",
     "evalue": "name 'TableOriginal' is not defined",
     "output_type": "error",
     "traceback": [
      "\u001B[31m---------------------------------------------------------------------------\u001B[39m",
      "\u001B[31mNameError\u001B[39m                                 Traceback (most recent call last)",
      "\u001B[36mCell\u001B[39m\u001B[36m \u001B[39m\u001B[32mIn[4]\u001B[39m\u001B[32m, line 16\u001B[39m\n\u001B[32m     10\u001B[39m input_check = InputCheckbox(\n\u001B[32m     11\u001B[39m     name=\u001B[33m\"\u001B[39m\u001B[33mNoSpherA2_bse_is_relativistic\u001B[39m\u001B[33m\"\u001B[39m,\n\u001B[32m     12\u001B[39m     txt_label=\u001B[33m\"\u001B[39m\u001B[33mRelativistic\u001B[39m\u001B[33m\"\u001B[39m\n\u001B[32m     13\u001B[39m )\n\u001B[32m     15\u001B[39m input_check[\u001B[33m\"\u001B[39m\u001B[33mcellpadding\u001B[39m\u001B[33m\"\u001B[39m] = \u001B[33m\"\u001B[39m\u001B[33m1px\u001B[39m\u001B[33m\"\u001B[39m\n\u001B[32m---> \u001B[39m\u001B[32m16\u001B[39m table = \u001B[43mTableOriginal\u001B[49m(rows=[\n\u001B[32m     17\u001B[39m     [\n\u001B[32m     18\u001B[39m     \u001B[38;5;66;03m# td(\u001B[39;00m\n\u001B[32m     19\u001B[39m         tr(\n\u001B[32m     20\u001B[39m             td(\n\u001B[32m     21\u001B[39m             text_input(\n\u001B[32m     22\u001B[39m                     name=\u001B[33m\"\u001B[39m\u001B[33mNoSpherA2_add_basis\u001B[39m\u001B[33m\"\u001B[39m,\n\u001B[32m     23\u001B[39m                     value=\u001B[33m\"\u001B[39m\u001B[33mspy.GetParam(\u001B[39m\u001B[33m'\u001B[39m\u001B[33msnum.NoSpherA2.basis_name\u001B[39m\u001B[33m'\u001B[39m\u001B[33m)\u001B[39m\u001B[33m\"\u001B[39m,\n\u001B[32m     24\u001B[39m                     onchange=\u001B[33m\"\u001B[39m\u001B[33mspy.SetParam(\u001B[39m\u001B[33m'\u001B[39m\u001B[33msnum.NoSpherA2.basis_name\u001B[39m\u001B[33m'\u001B[39m\u001B[33m,html.GetValue(\u001B[39m\u001B[33m'\u001B[39m\u001B[33m~name~\u001B[39m\u001B[33m'\u001B[39m\u001B[33m))\u001B[39m\u001B[33m\"\u001B[39m,\n\u001B[32m     25\u001B[39m                     label=\u001B[33m\"\u001B[39m\u001B[33mBasis Name: \u001B[39m\u001B[33m\"\u001B[39m,\n\u001B[32m     26\u001B[39m                     width=\u001B[33m\"\u001B[39m\u001B[33m100\u001B[39m\u001B[33m%\u001B[39m\u001B[33m\"\u001B[39m\n\u001B[32m     27\u001B[39m             ), width=\u001B[33m\"\u001B[39m\u001B[33m100\u001B[39m\u001B[33m%\u001B[39m\u001B[33m\"\u001B[39m\n\u001B[32m     28\u001B[39m             ),\n\u001B[32m     29\u001B[39m             td(\n\u001B[32m     30\u001B[39m                 input_check, align=\u001B[33m\"\u001B[39m\u001B[33mleft\u001B[39m\u001B[33m\"\u001B[39m, width=\u001B[33m\"\u001B[39m\u001B[33m100\u001B[39m\u001B[33m%\u001B[39m\u001B[33m\"\u001B[39m, valign=\u001B[33m\"\u001B[39m\u001B[33mbottom\u001B[39m\u001B[33m\"\u001B[39m\n\u001B[32m     31\u001B[39m             ),\n\u001B[32m     32\u001B[39m             td(\n\u001B[32m     33\u001B[39m             input_button(\u001B[33m\"\u001B[39m\u001B[33mDownloadBasis\u001B[39m\u001B[33m\"\u001B[39m, \u001B[33m\"\u001B[39m\u001B[33mGet Basis\u001B[39m\u001B[33m\"\u001B[39m, onclick=\u001B[33m\"\u001B[39m\u001B[33mspy.NoSpherA2.fetch_basis(html.GetValue(NoSpherA2_add_basis),html.GetState(NoSpherA2_bse_is_relativistic))\u001B[39m\u001B[33m\"\u001B[39m, valign=\u001B[33m\"\u001B[39m\u001B[33mbottom\u001B[39m\u001B[33m\"\u001B[39m),\n\u001B[32m     34\u001B[39m                 width=\u001B[33m\"\u001B[39m\u001B[33m33.3\u001B[39m\u001B[33m%\u001B[39m\u001B[33m\"\u001B[39m ,align=\u001B[33m\"\u001B[39m\u001B[33mleft\u001B[39m\u001B[33m\"\u001B[39m, valign=\u001B[33m\"\u001B[39m\u001B[33mbottom\u001B[39m\u001B[33m\"\u001B[39m\n\u001B[32m     35\u001B[39m         ))\n\u001B[32m     36\u001B[39m     \u001B[38;5;66;03m# )\u001B[39;00m\n\u001B[32m     37\u001B[39m     ]],\n\u001B[32m     38\u001B[39m     help_ext=\u001B[33m\"\u001B[39m\u001B[33mNoSpherA2_Add_Basissets_1\u001B[39m\u001B[33m\"\u001B[39m,\n\u001B[32m     39\u001B[39m     config=cfg,\n\u001B[32m     40\u001B[39m )\n\u001B[32m     41\u001B[39m table\n",
      "\u001B[31mNameError\u001B[39m: name 'TableOriginal' is not defined"
     ]
    }
   ],
   "execution_count": 4
  },
  {
   "metadata": {
    "ExecuteTime": {
     "end_time": "2025-08-11T18:01:02.221124Z",
     "start_time": "2025-08-11T18:01:02.115884Z"
    }
   },
   "cell_type": "code",
   "source": [
    "first_comment = include_comment(name=\"tool-h3\", path=\"gui/blocks/tool-h3.htm\",\n",
    "                                other_pars=['image=#image', 'colspan=1', '1'])\n",
    "html_temp = str(first_comment) + \"\\n\" + str(table).replace(\"<div>\", \"\").replace(\"</div>\", \"\")\n",
    "html_final = []\n",
    "for i in html_temp.split(\"\\n\"):\n",
    "    if \"#include\" in i:\n",
    "        html_final.append(re.sub(r\"\\s+<\", \"<\", i))\n",
    "    else:\n",
    "        html_final.append(i)\n",
    "with open(\"h3-refine_NoSpherA2-Basis.htm\", \"w\") as f:\n",
    "    f.write(\"\\n\".join(html_final))\n",
    "\n",
    "with open(\"/tmp/olexcmd\", \"w\") as f:\n",
    "    f.write(\"html.Update\")"
   ],
   "id": "8399f7d28ce86715",
   "outputs": [
    {
     "ename": "NameError",
     "evalue": "name 'include_comment' is not defined",
     "output_type": "error",
     "traceback": [
      "\u001B[31m---------------------------------------------------------------------------\u001B[39m",
      "\u001B[31mNameError\u001B[39m                                 Traceback (most recent call last)",
      "\u001B[36mCell\u001B[39m\u001B[36m \u001B[39m\u001B[32mIn[1]\u001B[39m\u001B[32m, line 1\u001B[39m\n\u001B[32m----> \u001B[39m\u001B[32m1\u001B[39m first_comment = \u001B[43minclude_comment\u001B[49m(name=\u001B[33m\"\u001B[39m\u001B[33mtool-h3\u001B[39m\u001B[33m\"\u001B[39m, path=\u001B[33m\"\u001B[39m\u001B[33mgui/blocks/tool-h3.htm\u001B[39m\u001B[33m\"\u001B[39m,\n\u001B[32m      2\u001B[39m                                 other_pars=[\u001B[33m'\u001B[39m\u001B[33mimage=#image\u001B[39m\u001B[33m'\u001B[39m, \u001B[33m'\u001B[39m\u001B[33mcolspan=1\u001B[39m\u001B[33m'\u001B[39m, \u001B[33m'\u001B[39m\u001B[33m1\u001B[39m\u001B[33m'\u001B[39m])\n\u001B[32m      3\u001B[39m html_temp = \u001B[38;5;28mstr\u001B[39m(first_comment) + \u001B[33m\"\u001B[39m\u001B[38;5;130;01m\\n\u001B[39;00m\u001B[33m\"\u001B[39m + \u001B[38;5;28mstr\u001B[39m(table).replace(\u001B[33m\"\u001B[39m\u001B[33m<div>\u001B[39m\u001B[33m\"\u001B[39m, \u001B[33m\"\u001B[39m\u001B[33m\"\u001B[39m).replace(\u001B[33m\"\u001B[39m\u001B[33m</div>\u001B[39m\u001B[33m\"\u001B[39m, \u001B[33m\"\u001B[39m\u001B[33m\"\u001B[39m)\n\u001B[32m      4\u001B[39m html_final = []\n",
      "\u001B[31mNameError\u001B[39m: name 'include_comment' is not defined"
     ]
    }
   ],
   "execution_count": 1
  },
  {
   "metadata": {
    "ExecuteTime": {
     "end_time": "2025-07-31T12:13:32.602199Z",
     "start_time": "2025-07-31T12:13:32.588878Z"
    }
   },
   "cell_type": "code",
   "source": "print(InputCheckbox(\"test\", \"test\"))",
   "id": "67d52529af9ad1da",
   "outputs": [
    {
     "name": "stdout",
     "output_type": "stream",
     "text": [
      "<table cellpadding=\"0\" cellspacing=\"0\">\n",
      "  <tr>\n",
      "    <td>\n",
      "      <font size=\"$GetVar('HtmlFontSizeControls')\">\n",
      "        <input bgcolor=\"GetVar(HtmlTableBgColour)\" fgcolor=\"GetVar(HtmlFontColour)\" height=\"20\" name=\"test\" type=\"checkbox\">\n",
      "      </font>\n",
      "    </td>\n",
      "    <td align=\"left\">\n",
      "      <b>test</b>\n",
      "    </td>\n",
      "  </tr>\n",
      "</table>\n"
     ]
    }
   ],
   "execution_count": 4
  },
  {
   "metadata": {
    "ExecuteTime": {
     "end_time": "2025-07-13T22:29:39.971333Z",
     "start_time": "2025-07-13T22:29:39.967212Z"
    }
   },
   "cell_type": "code",
   "source": [
    "print(GeneralComponent(\n",
    "    \"gui/snippets/input-text\",\n",
    "    name=\"NoSpherA2_add_basis\",\n",
    "    value=\"spy.GetParam('snum.NoSpherA2.basis_link')\",\n",
    "    onchange=\"spy.SetParam('snum.NoSpherA2.basis_link',html.GetValue('~name~'))\",\n",
    "    label=\"Download Link: \",\n",
    "    td_comp={\"width\": \"100%\"}\n",
    ").dominate\n",
    "      )"
   ],
   "id": "e03551bc9e824525",
   "outputs": [
    {
     "name": "stdout",
     "output_type": "stream",
     "text": [
      "<td width=\"100%\">\n",
      "    $+\n",
      "        html.Snippet(\n",
      "            \"gui/snippets/input-text\",\n",
      "            \"name=NoSpherA2_add_basis\",\n",
      "            \"value=spy.GetParam('snum.NoSpherA2.basis_link')\",\n",
      "            \"onchange=spy.SetParam('snum.NoSpherA2.basis_link',html.GetValue('~name~'))\",\n",
      "            \"label=Download Link: \",\n",
      "        )\n",
      "    $-\n",
      "</td>\n"
     ]
    }
   ],
   "execution_count": 40
  },
  {
   "metadata": {
    "ExecuteTime": {
     "end_time": "2025-07-16T18:00:45.213716Z",
     "start_time": "2025-07-16T18:00:45.206268Z"
    }
   },
   "cell_type": "code",
   "source": "str(tr())",
   "id": "847fae2e4391e066",
   "outputs": [
    {
     "data": {
      "text/plain": [
       "'<tr></tr>'"
      ]
     },
     "execution_count": 23,
     "metadata": {},
     "output_type": "execute_result"
    }
   ],
   "execution_count": 23
  },
  {
   "metadata": {},
   "cell_type": "code",
   "outputs": [],
   "execution_count": null,
   "source": "",
   "id": "7ccdb70603b85e5a"
  }
 ],
 "metadata": {
  "kernelspec": {
   "display_name": "Python 3",
   "language": "python",
   "name": "python3"
  },
  "language_info": {
   "codemirror_mode": {
    "name": "ipython",
    "version": 2
   },
   "file_extension": ".py",
   "mimetype": "text/x-python",
   "name": "python",
   "nbconvert_exporter": "python",
   "pygments_lexer": "ipython2",
   "version": "2.7.6"
  }
 },
 "nbformat": 4,
 "nbformat_minor": 5
}
