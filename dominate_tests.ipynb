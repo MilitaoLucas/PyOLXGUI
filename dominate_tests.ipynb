{
 "cells": [
  {
   "cell_type": "code",
   "id": "initial_id",
   "metadata": {
    "collapsed": true,
    "ExecuteTime": {
     "end_time": "2025-05-31T20:53:24.186431Z",
     "start_time": "2025-05-31T20:53:24.147982Z"
    }
   },
   "source": [
    "import dominate\n",
    "from IPython.display import HTML\n",
    "from dominate.tags import *\n",
    "from pygments import highlight\n",
    "from pygments.lexers import HtmlLexer\n",
    "from pygments.formatters import TerminalFormatter"
   ],
   "outputs": [],
   "execution_count": 18
  },
  {
   "metadata": {
    "ExecuteTime": {
     "end_time": "2025-05-31T20:53:24.794072Z",
     "start_time": "2025-05-31T20:53:24.765944Z"
    }
   },
   "cell_type": "code",
   "source": [
    "lexer = HtmlLexer()\n",
    "formatter = TerminalFormatter() # This will output ANSI escape codes\n",
    "\n",
    "# 3. Highlight the HTML string"
   ],
   "id": "36c5585dc8b1206",
   "outputs": [
    {
     "ename": "NameError",
     "evalue": "name 'html_string' is not defined",
     "output_type": "error",
     "traceback": [
      "\u001B[31m---------------------------------------------------------------------------\u001B[39m",
      "\u001B[31mNameError\u001B[39m                                 Traceback (most recent call last)",
      "\u001B[36mCell\u001B[39m\u001B[36m \u001B[39m\u001B[32mIn[19]\u001B[39m\u001B[32m, line 5\u001B[39m\n\u001B[32m      2\u001B[39m formatter = TerminalFormatter() \u001B[38;5;66;03m# This will output ANSI escape codes\u001B[39;00m\n\u001B[32m      4\u001B[39m \u001B[38;5;66;03m# 3. Highlight the HTML string\u001B[39;00m\n\u001B[32m----> \u001B[39m\u001B[32m5\u001B[39m highlighted_html = highlight(\u001B[43mhtml_string\u001B[49m, lexer, formatter)\n",
      "\u001B[31mNameError\u001B[39m: name 'html_string' is not defined"
     ]
    }
   ],
   "execution_count": 19
  },
  {
   "metadata": {
    "ExecuteTime": {
     "end_time": "2025-05-31T20:54:11.717183Z",
     "start_time": "2025-05-31T20:54:11.710708Z"
    }
   },
   "cell_type": "code",
   "source": [
    "tab = tr()\n",
    "with tab:\n",
    "highlighted_html = highlight(str(doc), lexer, formatter)\n",
    "print(highlighted_html)"
   ],
   "id": "38eed835f7b8e752",
   "outputs": [
    {
     "name": "stdout",
     "output_type": "stream",
     "text": [
      "\u001B[36m<!DOCTYPE html>\u001B[39;49;00m\n",
      "<\u001B[94mhtml\u001B[39;49;00m>\n",
      "  <\u001B[94mhead\u001B[39;49;00m>\n",
      "    <\u001B[94mtitle\u001B[39;49;00m>Dominate</\u001B[94mtitle\u001B[39;49;00m>\n",
      "    <\u001B[94mlink\u001B[39;49;00m \u001B[36mhref\u001B[39;49;00m=\u001B[33m\"style.css\"\u001B[39;49;00m \u001B[36mrel\u001B[39;49;00m=\u001B[33m\"stylesheet\"\u001B[39;49;00m>\n",
      "    <\u001B[94mscript\u001B[39;49;00m \u001B[36msrc\u001B[39;49;00m=\u001B[33m\"script.js\"\u001B[39;49;00m \u001B[36mtype\u001B[39;49;00m=\u001B[33m\"text/javascript\"\u001B[39;49;00m></\u001B[94mscript\u001B[39;49;00m>\n",
      "  </\u001B[94mhead\u001B[39;49;00m>\n",
      "  <\u001B[94mbody\u001B[39;49;00m>\n",
      "    <\u001B[94mdiv\u001B[39;49;00m \u001B[36mid\u001B[39;49;00m=\u001B[33m\"header\"\u001B[39;49;00m>\n",
      "      <\u001B[94mol\u001B[39;49;00m>\n",
      "        <\u001B[94mli\u001B[39;49;00m>\n",
      "          <\u001B[94ma\u001B[39;49;00m \u001B[36mhref\u001B[39;49;00m=\u001B[33m\"/home.html\"\u001B[39;49;00m>Home</\u001B[94ma\u001B[39;49;00m>\n",
      "        </\u001B[94mli\u001B[39;49;00m>\n",
      "        <\u001B[94mli\u001B[39;49;00m>\n",
      "          <\u001B[94ma\u001B[39;49;00m \u001B[36mhref\u001B[39;49;00m=\u001B[33m\"/about.html\"\u001B[39;49;00m>About</\u001B[94ma\u001B[39;49;00m>\n",
      "        </\u001B[94mli\u001B[39;49;00m>\n",
      "        <\u001B[94mli\u001B[39;49;00m>\n",
      "          <\u001B[94ma\u001B[39;49;00m \u001B[36mhref\u001B[39;49;00m=\u001B[33m\"/contact.html\"\u001B[39;49;00m>Contact</\u001B[94ma\u001B[39;49;00m>\n",
      "        </\u001B[94mli\u001B[39;49;00m>\n",
      "      </\u001B[94mol\u001B[39;49;00m>\n",
      "    </\u001B[94mdiv\u001B[39;49;00m>\n",
      "    <\u001B[94mdiv\u001B[39;49;00m \u001B[36mclass\u001B[39;49;00m=\u001B[33m\"body\"\u001B[39;49;00m>\n",
      "      <\u001B[94mp\u001B[39;49;00m>Lorem ipsum..</\u001B[94mp\u001B[39;49;00m>\n",
      "    </\u001B[94mdiv\u001B[39;49;00m>\n",
      "  </\u001B[94mbody\u001B[39;49;00m>\n",
      "</\u001B[94mhtml\u001B[39;49;00m>\n",
      "\n"
     ]
    }
   ],
   "execution_count": 23
  },
  {
   "metadata": {},
   "cell_type": "code",
   "outputs": [],
   "execution_count": null,
   "source": "",
   "id": "a8678a936928d900"
  }
 ],
 "metadata": {
  "kernelspec": {
   "display_name": "Python 3",
   "language": "python",
   "name": "python3"
  },
  "language_info": {
   "codemirror_mode": {
    "name": "ipython",
    "version": 2
   },
   "file_extension": ".py",
   "mimetype": "text/x-python",
   "name": "python",
   "nbconvert_exporter": "python",
   "pygments_lexer": "ipython2",
   "version": "2.7.6"
  }
 },
 "nbformat": 4,
 "nbformat_minor": 5
}
