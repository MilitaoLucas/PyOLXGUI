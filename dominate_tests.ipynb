{
 "cells": [
  {
   "cell_type": "code",
   "id": "initial_id",
   "metadata": {
    "collapsed": true,
    "ExecuteTime": {
     "end_time": "2025-05-31T23:43:18.421863Z",
     "start_time": "2025-05-31T23:43:18.418010Z"
    }
   },
   "source": [
    "import dominate\n",
    "from IPython.display import HTML\n",
    "from xml.dom import minidom\n",
    "from dominate.tags import *\n",
    "from dominate.util import raw\n",
    "from pygments import highlight\n",
    "from pygments.lexers import HtmlLexer\n",
    "from pygments.formatters import TerminalFormatter"
   ],
   "outputs": [],
   "execution_count": 7
  },
  {
   "metadata": {
    "ExecuteTime": {
     "end_time": "2025-05-31T23:43:18.859940Z",
     "start_time": "2025-05-31T23:43:18.857496Z"
    }
   },
   "cell_type": "code",
   "source": [
    "lexer = HtmlLexer()\n",
    "formatter = TerminalFormatter() # This will output ANSI escape codes\n",
    "\n",
    "# 3. Highlight the HTML string"
   ],
   "id": "36c5585dc8b1206",
   "outputs": [],
   "execution_count": 8
  },
  {
   "metadata": {
    "ExecuteTime": {
     "end_time": "2025-05-31T23:44:08.233878Z",
     "start_time": "2025-05-31T23:44:08.228793Z"
    }
   },
   "cell_type": "code",
   "source": [
    "tab = tr()\n",
    "get_struct = lambda: tab.add(td()).add(table()).add(tr()).add(td()).add(table()).add(tr())\n",
    "with get_struct():\n",
    "    raw(\"\\\"test\")\n",
    "dom = minidom.parseString(str(tab))\n",
    "highlighted_html = highlight(dom.toprettyxml(indent=\"  \"), lexer, formatter)\n",
    "print(highlighted_html)"
   ],
   "id": "38eed835f7b8e752",
   "outputs": [
    {
     "name": "stdout",
     "output_type": "stream",
     "text": [
      "\u001B[36m<?xml version=\"1.0\" ?>\u001B[39;49;00m\n",
      "<\u001B[94mtr\u001B[39;49;00m>\n",
      "  \n",
      "  \n",
      "  <\u001B[94mtd\u001B[39;49;00m>\n",
      "    \n",
      "    \n",
      "    <\u001B[94mtable\u001B[39;49;00m>\n",
      "      \n",
      "      \n",
      "      <\u001B[94mtr\u001B[39;49;00m>\n",
      "        \n",
      "        \n",
      "        <\u001B[94mtd\u001B[39;49;00m>\n",
      "          \n",
      "          \n",
      "          <\u001B[94mtable\u001B[39;49;00m>\n",
      "            \n",
      "            \n",
      "            <\u001B[94mtr\u001B[39;49;00m>\"test</\u001B[94mtr\u001B[39;49;00m>\n",
      "            \n",
      "          \n",
      "          </\u001B[94mtable\u001B[39;49;00m>\n",
      "          \n",
      "        \n",
      "        </\u001B[94mtd\u001B[39;49;00m>\n",
      "        \n",
      "      \n",
      "      </\u001B[94mtr\u001B[39;49;00m>\n",
      "      \n",
      "    \n",
      "    </\u001B[94mtable\u001B[39;49;00m>\n",
      "    \n",
      "  \n",
      "  </\u001B[94mtd\u001B[39;49;00m>\n",
      "  \n",
      "\n",
      "</\u001B[94mtr\u001B[39;49;00m>\n",
      "\n"
     ]
    }
   ],
   "execution_count": 9
  },
  {
   "metadata": {
    "ExecuteTime": {
     "end_time": "2025-06-01T01:03:59.705229Z",
     "start_time": "2025-06-01T01:03:59.698891Z"
    }
   },
   "cell_type": "code",
   "source": "type(comment(\"test\"))",
   "id": "a8678a936928d900",
   "outputs": [
    {
     "data": {
      "text/plain": [
       "dominate.tags.comment"
      ]
     },
     "execution_count": 10,
     "metadata": {},
     "output_type": "execute_result"
    }
   ],
   "execution_count": 10
  },
  {
   "metadata": {},
   "cell_type": "code",
   "outputs": [],
   "execution_count": null,
   "source": "",
   "id": "d3ef043fbec1e185"
  }
 ],
 "metadata": {
  "kernelspec": {
   "display_name": "Python 3",
   "language": "python",
   "name": "python3"
  },
  "language_info": {
   "codemirror_mode": {
    "name": "ipython",
    "version": 2
   },
   "file_extension": ".py",
   "mimetype": "text/x-python",
   "name": "python",
   "nbconvert_exporter": "python",
   "pygments_lexer": "ipython2",
   "version": "2.7.6"
  }
 },
 "nbformat": 4,
 "nbformat_minor": 5
}
