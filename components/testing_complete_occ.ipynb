{
 "cells": [
  {
   "cell_type": "code",
   "id": "initial_id",
   "metadata": {
    "collapsed": true,
    "ExecuteTime": {
     "end_time": "2025-06-01T01:53:33.949387Z",
     "start_time": "2025-06-01T01:53:33.924812Z"
    }
   },
   "source": [
    "from importlib import reload\n",
    "\n",
    "\n",
    "import components.item_component\n",
    "import components.table\n",
    "reload(components.item_component)\n",
    "reload(components.table)\n",
    "from components.item_component import *\n",
    "from components.table import *\n",
    "from dataclasses import asdict\n",
    "\n",
    "lexer = HtmlLexer()\n",
    "formatter = TerminalFormatter() # This will output ANSI escape codes\n",
    "from bs4 import BeautifulSoup"
   ],
   "outputs": [],
   "execution_count": 17
  },
  {
   "metadata": {
    "ExecuteTime": {
     "end_time": "2025-06-01T01:40:03.234846Z",
     "start_time": "2025-06-01T01:40:03.231139Z"
    }
   },
   "cell_type": "code",
   "source": [
    "\n",
    "<!-- #include tool-help-first-column gui\\blocks\\tool-help-first-column.htm;help_ext=NoSpherA2_Quick_Buttons;1; -->\n"
   ],
   "id": "aac2432340fa233b",
   "outputs": [
    {
     "ename": "SyntaxError",
     "evalue": "invalid syntax (2451702672.py, line 1)",
     "output_type": "error",
     "traceback": [
      "  \u001B[36mCell\u001B[39m\u001B[36m \u001B[39m\u001B[32mIn[2]\u001B[39m\u001B[32m, line 1\u001B[39m\n\u001B[31m    \u001B[39m\u001B[31m<!-- #include tool-help-first-column gui\\blocks\\tool-help-first-column.htm;help_ext=NoSpherA2_Quick_Buttons;1; -->\u001B[39m\n    ^\n\u001B[31mSyntaxError\u001B[39m\u001B[31m:\u001B[39m invalid syntax\n"
     ]
    }
   ],
   "execution_count": 2
  },
  {
   "metadata": {
    "ExecuteTime": {
     "end_time": "2025-06-01T02:11:22.763216Z",
     "start_time": "2025-06-01T02:11:22.756831Z"
    }
   },
   "cell_type": "code",
   "source": [
    "structure = []\n",
    "IC = IncludeComment\n",
    "structure.append(IC(\"tool-h3\", \"gui/blocks/tool-h3.htm\", [\"imgage=#image\", \"colspan=1\", \"1\"]))\n",
    "cfg = TableConfig(tr1_parameters={\"ALIGN\":\"left\", \"NAME\":'SNUM_REFINEMENT_NSFF',\"width\":\"100%\"})\n",
    "row = Table(\n",
    "    rows=[\n",
    "        [\n",
    "            IC(\"tool-help-first-column\", \"gui/blocks/tool-help-first-column.htm\", [\"help_ext=NoSpherA2_Quick_Buttons\", \"1\"]),\n",
    "            b(\"$spy.NoSpherA2.make_quick_button_gui()\"),\n",
    "        ],\n",
    "    ],\n",
    "    config=cfg,\n",
    ")\n",
    "with ignore(test=\"not(spy.GetParam('snum.NoSpherA2.Calculate')\") as test:\n",
    "    pass\n",
    "\n",
    "print(row)\n"
   ],
   "id": "4912997875e20f71",
   "outputs": [
    {
     "name": "stdout",
     "output_type": "stream",
     "text": [
      "<tr align=\"left\" name=\"SNUM_REFINEMENT_NSFF\" width=\"100%\">\n",
      " <td colspan=\"#colspan\">\n",
      "  <table border=\"0\" cellpadding=\"0\" cellspacing=\"0\" width=\"100%\" xbgcolor=\"#ffaaaa\">\n",
      "   <tr xbgcolor=\"#ffffaa\">\n",
      "    <td align=\"left\" width=\"#width%\">\n",
      "     <table cellpadding=\"0\" cellspacing=\"2\" width=\"100%\">\n",
      "      <tr bgcolor=\"GetVar(HtmlTableGroupBgColour)\">\n",
      "       <b>\n",
      "        $spy.NoSpherA2.make_quick_button_gui()\n",
      "       </b>\n",
      "       <!-- #include tool-help-first-column gui/blocks/tool-help-first-column.htmhelp_ext=NoSpherA2_Quick_Buttons;1 -->\n",
      "      </tr>\n",
      "     </table>\n",
      "    </td>\n",
      "   </tr>\n",
      "  </table>\n",
      " </td>\n",
      "</tr>\n",
      "\n"
     ]
    }
   ],
   "execution_count": 35
  },
  {
   "metadata": {
    "ExecuteTime": {
     "end_time": "2025-06-01T01:40:05.546952Z",
     "start_time": "2025-06-01T01:40:05.543355Z"
    }
   },
   "cell_type": "code",
   "source": "",
   "id": "e7a2eb2f0b0508d3",
   "outputs": [
    {
     "name": "stdout",
     "output_type": "stream",
     "text": [
      "<!-- #include tool-h3 gui/blocks/tool-h3.htmimgage=#image;colspan=1;1 -->\n"
     ]
    }
   ],
   "execution_count": 4
  },
  {
   "metadata": {
    "ExecuteTime": {
     "end_time": "2025-06-01T01:42:35.763619Z",
     "start_time": "2025-06-01T01:42:35.760798Z"
    }
   },
   "cell_type": "code",
   "source": [
    "print(\n",
    "    b(\"$spy.NoSpherA2.make_quick_button_gui()\")\n",
    ")\n"
   ],
   "id": "80102d5540cdf5a9",
   "outputs": [
    {
     "name": "stdout",
     "output_type": "stream",
     "text": [
      "<b>$spy.NoSpherA2.make_quick_button_gui()</b>\n"
     ]
    }
   ],
   "execution_count": 7
  },
  {
   "metadata": {
    "ExecuteTime": {
     "end_time": "2025-06-01T02:11:59.691660Z",
     "start_time": "2025-06-01T02:11:59.688720Z"
    }
   },
   "cell_type": "code",
   "source": "print(row.raw_str())",
   "id": "7a245be87836b7b",
   "outputs": [
    {
     "name": "stdout",
     "output_type": "stream",
     "text": [
      "<tr ALIGN=\"left\" NAME=\"SNUM_REFINEMENT_NSFF\" width=\"100%\">\n",
      "  <td colspan=\"#colspan\">\n",
      "    <table Xbgcolor=\"#ffaaaa\" border=\"0\" cellpadding=\"0\" cellspacing=\"0\" width=\"100%\">\n",
      "      <tr Xbgcolor=\"#ffffaa\">\n",
      "        <td align=\"left\" width=\"#width%\">\n",
      "          <table cellpadding=\"0\" cellspacing=\"2\" width=\"100%\">\n",
      "            <tr bgcolor=\"GetVar(HtmlTableGroupBgColour)\">\n",
      "              <b>$spy.NoSpherA2.make_quick_button_gui()</b>\n",
      "<!-- #include tool-help-first-column gui/blocks/tool-help-first-column.htmhelp_ext=NoSpherA2_Quick_Buttons;1 -->\n",
      "\n",
      "            </tr>\n",
      "          </table>\n",
      "        </td>\n",
      "      </tr>\n",
      "    </table>\n",
      "  </td>\n",
      "</tr>\n"
     ]
    }
   ],
   "execution_count": 36
  },
  {
   "metadata": {},
   "cell_type": "code",
   "outputs": [],
   "execution_count": null,
   "source": "",
   "id": "1330ac70a7e17734"
  }
 ],
 "metadata": {
  "kernelspec": {
   "display_name": "Python 3",
   "language": "python",
   "name": "python3"
  },
  "language_info": {
   "codemirror_mode": {
    "name": "ipython",
    "version": 2
   },
   "file_extension": ".py",
   "mimetype": "text/x-python",
   "name": "python",
   "nbconvert_exporter": "python",
   "pygments_lexer": "ipython2",
   "version": "2.7.6"
  }
 },
 "nbformat": 4,
 "nbformat_minor": 5
}
