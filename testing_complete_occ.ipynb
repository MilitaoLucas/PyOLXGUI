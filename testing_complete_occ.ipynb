{
 "cells": [
  {
   "cell_type": "code",
   "id": "initial_id",
   "metadata": {
    "collapsed": true,
    "ExecuteTime": {
     "end_time": "2025-08-20T17:43:52.354609Z",
     "start_time": "2025-08-20T17:43:52.246861Z"
    }
   },
   "source": [
    "from importlib import reload\n",
    "import ast\n",
    "\n",
    "import olx_gui.components.item_component\n",
    "import olx_gui.components.table\n",
    "from olx_gui.utils.update_html import update\n",
    "reload(olx_gui.components.item_component)\n",
    "reload(olx_gui.components.table)\n",
    "from olx_gui.components.item_component import *\n",
    "from olx_gui.components.table import *\n",
    "from olx_gui.components.tableRefactored import *\n",
    "reload(olx_gui.components)\n",
    "import re\n",
    "lexer = HtmlLexer()\n",
    "formatter = TerminalFormatter()"
   ],
   "outputs": [],
   "execution_count": 1
  },
  {
   "metadata": {
    "ExecuteTime": {
     "end_time": "2025-08-20T17:46:47.079310Z",
     "start_time": "2025-08-20T17:46:47.075639Z"
    }
   },
   "cell_type": "code",
   "source": [
    "sec = H3Section()\n",
    "config = TableConfig(table2_parameters={\"cellpadding\": \"0\", \"cellspacing\": \"2\"})\n",
    "line1 = Line(\"Test\", config=config)\n",
    "\n",
    "test = InputCheckbox(\"test\", b(\"test\"))\n",
    "line1.add([test, test])\n",
    "sec.add(line1)\n",
    "sec"
   ],
   "id": "518ce0f8746aaf2b",
   "outputs": [
    {
     "data": {
      "text/plain": [
       "<olx_gui.components.tableRefactored.H3Section at 0x7f471a4dcd60>"
      ],
      "text/html": [
       "\n",
       "<!-- #include tool-h3 gui\\blocks\\tool-h3.htm;image=#image;colspan=1;1 -->\n",
       "<tr ALIGN=\"left\" NAME=\"Test\" config=\"TableConfig(tr1_parameters={'ALIGN': 'left', 'NAME': 'Test', 'width': '100%'}, td1_parameters={'colspan': '#colspan'}, table1_parameters={'border': '0', 'width': '100%', 'cellpadding': '0', 'cellspacing': '0', 'Xbgcolor': '#ffaaaa'}, tr2_parameters={'Xbgcolor': '#ffffaa'}, td2_parameters={'width': '100', 'align': 'left'}, table2_parameters={'cellpadding': '0', 'cellspacing': '2'}, tr3_parameters={'bgcolor': '$GetVar(HtmlTableGroupBgColour)'})\" width=\"100%\">\n",
       "<!-- #include tool-help-first-column gui\\blocks\\tool-help-first-column.htm;help_ext=#help_ext;1 -->\n",
       "  <td colspan=\"#colspan\">\n",
       "    <table Xbgcolor=\"#ffaaaa\" border=\"0\" cellpadding=\"0\" cellspacing=\"0\" width=\"50%\">\n",
       "      <tr Xbgcolor=\"#ffffaa\">\n",
       "        <td align=\"left\" width=\"100\">\n",
       "          <table cellpadding=\"0\" cellspacing=\"2\">\n",
       "            <tr bgcolor=\"$GetVar(HtmlTableGroupBgColour)\">\n",
       "              <td>\n",
       "                <table cellpadding=\"2\" cellspacing=\"0\">\n",
       "                  <tr valign=\"middle\">\n",
       "                    <td valign=\"middle\">\n",
       "                      <input bgcolor=\"GetVar(HtmlTableBgColour)\" fgcolor=\"GetVar(HtmlFontColour)\" height=\"20\" name=\"test\" type=\"checkbox\" valign=\"middle\">\n",
       "                    </td>\n",
       "                    <td align=\"left\" valign=\"middle\">\n",
       "                      <b>test</b>\n",
       "                    </td>\n",
       "                  </tr>\n",
       "                </table>\n",
       "              </td>\n",
       "              <td>\n",
       "                <table cellpadding=\"2\" cellspacing=\"0\">\n",
       "                  <tr valign=\"middle\">\n",
       "                    <td valign=\"middle\">\n",
       "                      <input bgcolor=\"GetVar(HtmlTableBgColour)\" fgcolor=\"GetVar(HtmlFontColour)\" height=\"20\" name=\"test\" type=\"checkbox\" valign=\"middle\">\n",
       "                    </td>\n",
       "                    <td align=\"left\" valign=\"middle\">\n",
       "                      <b>test</b>\n",
       "                    </td>\n",
       "                  </tr>\n",
       "                </table>\n",
       "              </td>\n",
       "            </tr>\n",
       "          </table>\n",
       "        </td>\n",
       "      </tr>\n",
       "    </table>\n",
       "  </td>\n",
       "</tr>"
      ]
     },
     "execution_count": 4,
     "metadata": {},
     "output_type": "execute_result"
    }
   ],
   "execution_count": 4
  },
  {
   "metadata": {
    "ExecuteTime": {
     "end_time": "2025-08-20T17:33:40.219387Z",
     "start_time": "2025-08-20T17:33:40.217179Z"
    }
   },
   "cell_type": "code",
   "source": [
    "with open(\"h3-refine_NoSpherA2-tests.htm\", \"w\") as f:\n",
    "    f.write(str(sec))\n",
    "update()"
   ],
   "id": "e262f9784afccd44",
   "outputs": [],
   "execution_count": 3
  },
  {
   "metadata": {
    "ExecuteTime": {
     "end_time": "2025-08-20T16:37:44.797666Z",
     "start_time": "2025-08-20T16:37:44.795505Z"
    }
   },
   "cell_type": "code",
   "source": "print(test)",
   "id": "f845ff4e4321b634",
   "outputs": [
    {
     "name": "stdout",
     "output_type": "stream",
     "text": [
      "<table cellpadding=\"0\" cellspacing=\"0\">\n",
      "  <tr valign=\"middle\">\n",
      "    <td valign=\"middle\">\n",
      "      <input bgcolor=\"GetVar(HtmlTableBgColour)\" fgcolor=\"GetVar(HtmlFontColour)\" height=\"20\" name=\"test\" type=\"checkbox\" valign=\"middle\">\n",
      "    </td>\n",
      "    <td align=\"left\" valign=\"middle\">\n",
      "      <b valign=\"top\">test</b>\n",
      "    </td>\n",
      "  </tr>\n",
      "</table>\n"
     ]
    }
   ],
   "execution_count": 5
  },
  {
   "metadata": {
    "ExecuteTime": {
     "end_time": "2025-08-20T16:37:44.860487Z",
     "start_time": "2025-08-20T16:37:44.841545Z"
    }
   },
   "cell_type": "code",
   "source": [
    "from rich.console import Console\n",
    "from rich.markdown import Markdown\n",
    "console = Console()\n",
    "console.print(Markdown(\"**test**\"))"
   ],
   "id": "b8d470c04dbbff12",
   "outputs": [
    {
     "data": {
      "text/plain": [
       "\u001B[1mtest\u001B[0m                                                                                                               \n"
      ],
      "text/html": [
       "<pre style=\"white-space:pre;overflow-x:auto;line-height:normal;font-family:Menlo,'DejaVu Sans Mono',consolas,'Courier New',monospace\"><span style=\"font-weight: bold\">test</span>                                                                                                               \n",
       "</pre>\n"
      ]
     },
     "metadata": {},
     "output_type": "display_data"
    }
   ],
   "execution_count": 6
  },
  {
   "metadata": {
    "ExecuteTime": {
     "end_time": "2025-08-20T16:37:44.894651Z",
     "start_time": "2025-08-20T16:37:44.891843Z"
    }
   },
   "cell_type": "code",
   "source": [
    "from bs4 import BeautifulSoup\n",
    "soup = BeautifulSoup(\"<b>t</b>\", \"html.parser\")\n",
    "print(soup.encode())"
   ],
   "id": "ce0a4081861e783e",
   "outputs": [
    {
     "name": "stdout",
     "output_type": "stream",
     "text": [
      "b'<b>t</b>'\n"
     ]
    }
   ],
   "execution_count": 7
  },
  {
   "metadata": {
    "ExecuteTime": {
     "end_time": "2025-08-20T16:37:44.942066Z",
     "start_time": "2025-08-20T16:37:44.937742Z"
    }
   },
   "cell_type": "code",
   "source": [
    "import rich\n",
    "rich.print(\":warning:\")"
   ],
   "id": "50223299582104da",
   "outputs": [
    {
     "data": {
      "text/plain": [
       "⚠\n"
      ],
      "text/html": [
       "<pre style=\"white-space:pre;overflow-x:auto;line-height:normal;font-family:Menlo,'DejaVu Sans Mono',consolas,'Courier New',monospace\">⚠\n",
       "</pre>\n"
      ]
     },
     "metadata": {},
     "output_type": "display_data"
    }
   ],
   "execution_count": 8
  },
  {
   "metadata": {
    "ExecuteTime": {
     "end_time": "2025-08-20T16:37:44.989356Z",
     "start_time": "2025-08-20T16:37:44.986320Z"
    }
   },
   "cell_type": "code",
   "source": "(\"<b></b>\")",
   "id": "14299a363d49243f",
   "outputs": [
    {
     "data": {
      "text/plain": [
       "'<b></b>'"
      ]
     },
     "execution_count": 9,
     "metadata": {},
     "output_type": "execute_result"
    }
   ],
   "execution_count": 9
  },
  {
   "metadata": {
    "ExecuteTime": {
     "end_time": "2025-08-20T16:37:45.040709Z",
     "start_time": "2025-08-20T16:37:45.038179Z"
    }
   },
   "cell_type": "code",
   "source": [
    "import IPython\n",
    "IPython.core.display.HTML(f\"<row><col><input type=checkbox></col><col><b>test</b></col>\")"
   ],
   "id": "c7cab1406f63afbc",
   "outputs": [
    {
     "data": {
      "text/plain": [
       "<IPython.core.display.HTML object>"
      ],
      "text/html": [
       "<row><col><input type=checkbox></col><col><b>test</b></col>"
      ]
     },
     "execution_count": 10,
     "metadata": {},
     "output_type": "execute_result"
    }
   ],
   "execution_count": 10
  },
  {
   "metadata": {
    "ExecuteTime": {
     "end_time": "2025-08-20T16:37:45.085930Z",
     "start_time": "2025-08-20T16:37:45.084330Z"
    }
   },
   "cell_type": "code",
   "source": "",
   "id": "7175680d524fe09d",
   "outputs": [],
   "execution_count": null
  }
 ],
 "metadata": {
  "kernelspec": {
   "display_name": "Python 3",
   "language": "python",
   "name": "python3"
  },
  "language_info": {
   "codemirror_mode": {
    "name": "ipython",
    "version": 2
   },
   "file_extension": ".py",
   "mimetype": "text/x-python",
   "name": "python",
   "nbconvert_exporter": "python",
   "pygments_lexer": "ipython2",
   "version": "2.7.6"
  }
 },
 "nbformat": 4,
 "nbformat_minor": 5
}
