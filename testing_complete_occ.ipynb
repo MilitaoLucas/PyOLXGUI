{
 "cells": [
  {
   "cell_type": "code",
   "id": "initial_id",
   "metadata": {
    "collapsed": true,
    "ExecuteTime": {
     "end_time": "2025-08-20T19:13:27.158694Z",
     "start_time": "2025-08-20T19:13:27.155176Z"
    }
   },
   "source": [
    "from importlib import reload\n",
    "\n",
    "import olx_gui.components.item_component\n",
    "import olx_gui.components.table\n",
    "from olx_gui.utils.update_html import update\n",
    "reload(olx_gui.components.item_component)\n",
    "reload(olx_gui.components.table)\n",
    "from olx_gui.components.item_component import *\n",
    "from olx_gui.components.table import *\n",
    "reload(olx_gui.components)\n",
    "lexer = HtmlLexer()\n",
    "formatter = TerminalFormatter()"
   ],
   "outputs": [],
   "execution_count": 12
  },
  {
   "metadata": {
    "ExecuteTime": {
     "end_time": "2025-08-20T19:15:10.586607Z",
     "start_time": "2025-08-20T19:15:10.583312Z"
    }
   },
   "cell_type": "code",
   "source": [
    "sec = H3Section()\n",
    "config = TableConfig()\n",
    "config.table2_parameters.pop(\"width\")\n",
    "line1 = Line(\"AutoSelect\", config=config)\n",
    "line1.add(\"$spy.NoSpherA2.make_quick_button_gui()\")\n",
    "line2 = Line(\"second\", config=config)\n",
    "line2.add()\n",
    "sec.add(line1)\n",
    "sec"
   ],
   "id": "518ce0f8746aaf2b",
   "outputs": [
    {
     "data": {
      "text/plain": [
       "<olx_gui.components.table.H3Section at 0x7ff541a73390>"
      ],
      "text/html": [
       "\n",
       "<!-- #include tool-h3 gui\\blocks\\tool-h3.htm;image=#image;colspan=1;1 -->\n",
       "<tr ALIGN=\"left\" NAME=\"AutoSelect\" width=\"100%\">\n",
       "<!-- #include tool-help-first-column gui\\blocks\\tool-help-first-column.htm;help_ext=#help_ext;1 -->\n",
       "  <td colspan=\"#colspan\">\n",
       "    <table Xbgcolor=\"#ffaaaa\" border=\"0\" cellpadding=\"0\" cellspacing=\"0\" width=\"50%\">\n",
       "      <tr Xbgcolor=\"#ffffaa\">\n",
       "        <td align=\"left\" width=\"100\">\n",
       "          <table cellpadding=\"0\" cellspacing=\"2\">\n",
       "            <tr bgcolor=\"$GetVar(HtmlTableGroupBgColour)\">$spy.NoSpherA2.make_quick_button_gui()</tr>\n",
       "          </table>\n",
       "        </td>\n",
       "      </tr>\n",
       "    </table>\n",
       "  </td>\n",
       "</tr>"
      ]
     },
     "execution_count": 14,
     "metadata": {},
     "output_type": "execute_result"
    }
   ],
   "execution_count": 14
  },
  {
   "metadata": {
    "ExecuteTime": {
     "end_time": "2025-08-20T19:10:17.480876Z",
     "start_time": "2025-08-20T19:10:17.478720Z"
    }
   },
   "cell_type": "code",
   "source": [
    "with open(\"h3-refine_NoSpherA2-tests.htm\", \"w\") as f:\n",
    "    f.write(str(sec))\n",
    "update()"
   ],
   "id": "e262f9784afccd44",
   "outputs": [],
   "execution_count": 3
  },
  {
   "metadata": {
    "ExecuteTime": {
     "end_time": "2025-08-20T19:10:17.525756Z",
     "start_time": "2025-08-20T19:10:17.523572Z"
    }
   },
   "cell_type": "code",
   "source": "print(test)",
   "id": "f845ff4e4321b634",
   "outputs": [
    {
     "name": "stdout",
     "output_type": "stream",
     "text": [
      "<td>\n",
      "  <table cellpadding=\"2\" cellspacing=\"0\">\n",
      "    <tr valign=\"middle\">\n",
      "      <td valign=\"middle\">\n",
      "        <input bgcolor=\"GetVar(HtmlTableBgColour)\" fgcolor=\"GetVar(HtmlFontColour)\" height=\"20\" name=\"test\" type=\"checkbox\" valign=\"middle\">\n",
      "      </td>\n",
      "      <td align=\"left\" valign=\"middle\">\n",
      "        <b>test</b>\n",
      "      </td>\n",
      "    </tr>\n",
      "  </table>\n",
      "</td>\n"
     ]
    }
   ],
   "execution_count": 4
  }
 ],
 "metadata": {
  "kernelspec": {
   "display_name": "Python 3",
   "language": "python",
   "name": "python3"
  },
  "language_info": {
   "codemirror_mode": {
    "name": "ipython",
    "version": 2
   },
   "file_extension": ".py",
   "mimetype": "text/x-python",
   "name": "python",
   "nbconvert_exporter": "python",
   "pygments_lexer": "ipython2",
   "version": "2.7.6"
  }
 },
 "nbformat": 4,
 "nbformat_minor": 5
}
