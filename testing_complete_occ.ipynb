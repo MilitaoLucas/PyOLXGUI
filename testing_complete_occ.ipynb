{
 "cells": [
  {
   "cell_type": "code",
   "id": "initial_id",
   "metadata": {
    "collapsed": true,
    "ExecuteTime": {
     "end_time": "2025-08-20T19:01:13.751207Z",
     "start_time": "2025-08-20T19:01:13.642667Z"
    }
   },
   "source": [
    "from importlib import reload\n",
    "import ast\n",
    "\n",
    "import olx_gui.components.item_component\n",
    "import olx_gui.components.table\n",
    "from olx_gui.utils.update_html import update\n",
    "reload(olx_gui.components.item_component)\n",
    "reload(olx_gui.components.table)\n",
    "from olx_gui.components.item_component import *\n",
    "from olx_gui.components.table import *\n",
    "from olx_gui.components.tableRefactored import *\n",
    "reload(olx_gui.components)\n",
    "import re\n",
    "lexer = HtmlLexer()\n",
    "formatter = TerminalFormatter()"
   ],
   "outputs": [],
   "execution_count": 1
  },
  {
   "metadata": {
    "ExecuteTime": {
     "end_time": "2025-08-20T19:01:13.765339Z",
     "start_time": "2025-08-20T19:01:13.760555Z"
    }
   },
   "cell_type": "code",
   "source": [
    "sec = H3Section()\n",
    "config2 = TableConfig(table2_parameters={\"cellpadding\": \"0\", \"cellspacing\": \"2\"})\n",
    "config = TableConfig()\n",
    "config.table2_parameters.pop(\"width\")\n",
    "line1 = Line(\"Test\", config=config)\n",
    "line2 = Line(\"Test\", config=config2)\n",
    "\n",
    "test = InputCheckbox(\"test\", b(\"test\"))\n",
    "line1.add([test, test])\n",
    "line2.add([test, test])\n",
    "sec.add(line1)\n",
    "line1"
   ],
   "id": "518ce0f8746aaf2b",
   "outputs": [
    {
     "data": {
      "text/plain": [
       "<olx_gui.components.tableRefactored.Line at 7fb595ac6ba0: 3 attributes, 2 children>"
      ],
      "text/html": [
       "<tr ALIGN=\"left\" NAME=\"Test\" width=\"100%\">\n",
       "<!-- #include tool-help-first-column gui\\blocks\\tool-help-first-column.htm;help_ext=#help_ext;1 -->\n",
       "  <td colspan=\"#colspan\">\n",
       "    <table Xbgcolor=\"#ffaaaa\" border=\"0\" cellpadding=\"0\" cellspacing=\"0\" width=\"100%\">\n",
       "      <tr Xbgcolor=\"#ffffaa\">\n",
       "        <td align=\"left\" width=\"100\">\n",
       "          <table cellpadding=\"0\" cellspacing=\"2\">\n",
       "            <tr bgcolor=\"$GetVar(HtmlTableGroupBgColour)\">\n",
       "              <td>\n",
       "                <table cellpadding=\"2\" cellspacing=\"0\">\n",
       "                  <tr valign=\"middle\">\n",
       "                    <td valign=\"middle\">\n",
       "                      <input bgcolor=\"GetVar(HtmlTableBgColour)\" fgcolor=\"GetVar(HtmlFontColour)\" height=\"20\" name=\"test\" type=\"checkbox\" valign=\"middle\">\n",
       "                    </td>\n",
       "                    <td align=\"left\" valign=\"middle\">\n",
       "                      <b>test</b>\n",
       "                    </td>\n",
       "                  </tr>\n",
       "                </table>\n",
       "              </td>\n",
       "              <td>\n",
       "                <table cellpadding=\"2\" cellspacing=\"0\">\n",
       "                  <tr valign=\"middle\">\n",
       "                    <td valign=\"middle\">\n",
       "                      <input bgcolor=\"GetVar(HtmlTableBgColour)\" fgcolor=\"GetVar(HtmlFontColour)\" height=\"20\" name=\"test\" type=\"checkbox\" valign=\"middle\">\n",
       "                    </td>\n",
       "                    <td align=\"left\" valign=\"middle\">\n",
       "                      <b>test</b>\n",
       "                    </td>\n",
       "                  </tr>\n",
       "                </table>\n",
       "              </td>\n",
       "            </tr>\n",
       "          </table>\n",
       "        </td>\n",
       "      </tr>\n",
       "    </table>\n",
       "  </td>\n",
       "</tr>"
      ]
     },
     "execution_count": 2,
     "metadata": {},
     "output_type": "execute_result"
    }
   ],
   "execution_count": 2
  },
  {
   "metadata": {
    "ExecuteTime": {
     "end_time": "2025-08-20T19:01:13.811720Z",
     "start_time": "2025-08-20T19:01:13.809069Z"
    }
   },
   "cell_type": "code",
   "source": "print(line1.pretty)",
   "id": "45ede42f226d5306",
   "outputs": [
    {
     "name": "stdout",
     "output_type": "stream",
     "text": [
      "<\u001B[94mtr\u001B[39;49;00m \u001B[36mALIGN\u001B[39;49;00m=\u001B[33m\"left\"\u001B[39;49;00m \u001B[36mNAME\u001B[39;49;00m=\u001B[33m\"Test\"\u001B[39;49;00m \u001B[36mwidth\u001B[39;49;00m=\u001B[33m\"100%\"\u001B[39;49;00m>\n",
      "\u001B[37m<!-- #include tool-help-first-column gui\\blocks\\tool-help-first-column.htm;help_ext=#help_ext;1 -->\u001B[39;49;00m\n",
      "  <\u001B[94mtd\u001B[39;49;00m \u001B[36mcolspan\u001B[39;49;00m=\u001B[33m\"#colspan\"\u001B[39;49;00m>\n",
      "    <\u001B[94mtable\u001B[39;49;00m \u001B[36mXbgcolor\u001B[39;49;00m=\u001B[33m\"#ffaaaa\"\u001B[39;49;00m \u001B[36mborder\u001B[39;49;00m=\u001B[33m\"0\"\u001B[39;49;00m \u001B[36mcellpadding\u001B[39;49;00m=\u001B[33m\"0\"\u001B[39;49;00m \u001B[36mcellspacing\u001B[39;49;00m=\u001B[33m\"0\"\u001B[39;49;00m \u001B[36mwidth\u001B[39;49;00m=\u001B[33m\"100%\"\u001B[39;49;00m>\n",
      "      <\u001B[94mtr\u001B[39;49;00m \u001B[36mXbgcolor\u001B[39;49;00m=\u001B[33m\"#ffffaa\"\u001B[39;49;00m>\n",
      "        <\u001B[94mtd\u001B[39;49;00m \u001B[36malign\u001B[39;49;00m=\u001B[33m\"left\"\u001B[39;49;00m \u001B[36mwidth\u001B[39;49;00m=\u001B[33m\"100\"\u001B[39;49;00m>\n",
      "          <\u001B[94mtable\u001B[39;49;00m \u001B[36mcellpadding\u001B[39;49;00m=\u001B[33m\"0\"\u001B[39;49;00m \u001B[36mcellspacing\u001B[39;49;00m=\u001B[33m\"2\"\u001B[39;49;00m>\n",
      "            <\u001B[94mtr\u001B[39;49;00m \u001B[36mbgcolor\u001B[39;49;00m=\u001B[33m\"$GetVar(HtmlTableGroupBgColour)\"\u001B[39;49;00m>\n",
      "              <\u001B[94mtd\u001B[39;49;00m>\n",
      "                <\u001B[94mtable\u001B[39;49;00m \u001B[36mcellpadding\u001B[39;49;00m=\u001B[33m\"2\"\u001B[39;49;00m \u001B[36mcellspacing\u001B[39;49;00m=\u001B[33m\"0\"\u001B[39;49;00m>\n",
      "                  <\u001B[94mtr\u001B[39;49;00m \u001B[36mvalign\u001B[39;49;00m=\u001B[33m\"middle\"\u001B[39;49;00m>\n",
      "                    <\u001B[94mtd\u001B[39;49;00m \u001B[36mvalign\u001B[39;49;00m=\u001B[33m\"middle\"\u001B[39;49;00m>\n",
      "                      <\u001B[94minput\u001B[39;49;00m \u001B[36mbgcolor\u001B[39;49;00m=\u001B[33m\"GetVar(HtmlTableBgColour)\"\u001B[39;49;00m \u001B[36mfgcolor\u001B[39;49;00m=\u001B[33m\"GetVar(HtmlFontColour)\"\u001B[39;49;00m \u001B[36mheight\u001B[39;49;00m=\u001B[33m\"20\"\u001B[39;49;00m \u001B[36mname\u001B[39;49;00m=\u001B[33m\"test\"\u001B[39;49;00m \u001B[36mtype\u001B[39;49;00m=\u001B[33m\"checkbox\"\u001B[39;49;00m \u001B[36mvalign\u001B[39;49;00m=\u001B[33m\"middle\"\u001B[39;49;00m>\n",
      "                    </\u001B[94mtd\u001B[39;49;00m>\n",
      "                    <\u001B[94mtd\u001B[39;49;00m \u001B[36malign\u001B[39;49;00m=\u001B[33m\"left\"\u001B[39;49;00m \u001B[36mvalign\u001B[39;49;00m=\u001B[33m\"middle\"\u001B[39;49;00m>\n",
      "                      <\u001B[94mb\u001B[39;49;00m>test</\u001B[94mb\u001B[39;49;00m>\n",
      "                    </\u001B[94mtd\u001B[39;49;00m>\n",
      "                  </\u001B[94mtr\u001B[39;49;00m>\n",
      "                </\u001B[94mtable\u001B[39;49;00m>\n",
      "              </\u001B[94mtd\u001B[39;49;00m>\n",
      "              <\u001B[94mtd\u001B[39;49;00m>\n",
      "                <\u001B[94mtable\u001B[39;49;00m \u001B[36mcellpadding\u001B[39;49;00m=\u001B[33m\"2\"\u001B[39;49;00m \u001B[36mcellspacing\u001B[39;49;00m=\u001B[33m\"0\"\u001B[39;49;00m>\n",
      "                  <\u001B[94mtr\u001B[39;49;00m \u001B[36mvalign\u001B[39;49;00m=\u001B[33m\"middle\"\u001B[39;49;00m>\n",
      "                    <\u001B[94mtd\u001B[39;49;00m \u001B[36mvalign\u001B[39;49;00m=\u001B[33m\"middle\"\u001B[39;49;00m>\n",
      "                      <\u001B[94minput\u001B[39;49;00m \u001B[36mbgcolor\u001B[39;49;00m=\u001B[33m\"GetVar(HtmlTableBgColour)\"\u001B[39;49;00m \u001B[36mfgcolor\u001B[39;49;00m=\u001B[33m\"GetVar(HtmlFontColour)\"\u001B[39;49;00m \u001B[36mheight\u001B[39;49;00m=\u001B[33m\"20\"\u001B[39;49;00m \u001B[36mname\u001B[39;49;00m=\u001B[33m\"test\"\u001B[39;49;00m \u001B[36mtype\u001B[39;49;00m=\u001B[33m\"checkbox\"\u001B[39;49;00m \u001B[36mvalign\u001B[39;49;00m=\u001B[33m\"middle\"\u001B[39;49;00m>\n",
      "                    </\u001B[94mtd\u001B[39;49;00m>\n",
      "                    <\u001B[94mtd\u001B[39;49;00m \u001B[36malign\u001B[39;49;00m=\u001B[33m\"left\"\u001B[39;49;00m \u001B[36mvalign\u001B[39;49;00m=\u001B[33m\"middle\"\u001B[39;49;00m>\n",
      "                      <\u001B[94mb\u001B[39;49;00m>test</\u001B[94mb\u001B[39;49;00m>\n",
      "                    </\u001B[94mtd\u001B[39;49;00m>\n",
      "                  </\u001B[94mtr\u001B[39;49;00m>\n",
      "                </\u001B[94mtable\u001B[39;49;00m>\n",
      "              </\u001B[94mtd\u001B[39;49;00m>\n",
      "            </\u001B[94mtr\u001B[39;49;00m>\n",
      "          </\u001B[94mtable\u001B[39;49;00m>\n",
      "        </\u001B[94mtd\u001B[39;49;00m>\n",
      "      </\u001B[94mtr\u001B[39;49;00m>\n",
      "    </\u001B[94mtable\u001B[39;49;00m>\n",
      "  </\u001B[94mtd\u001B[39;49;00m>\n",
      "</\u001B[94mtr\u001B[39;49;00m>\n",
      "\n"
     ]
    }
   ],
   "execution_count": 3
  },
  {
   "metadata": {
    "ExecuteTime": {
     "end_time": "2025-08-20T19:01:13.857357Z",
     "start_time": "2025-08-20T19:01:13.854813Z"
    }
   },
   "cell_type": "code",
   "source": "line2",
   "id": "18e2b06165d704bd",
   "outputs": [
    {
     "data": {
      "text/plain": [
       "<olx_gui.components.tableRefactored.Line at 7fb5959f02d0: 3 attributes, 2 children>"
      ],
      "text/html": [
       "<tr ALIGN=\"left\" NAME=\"Test\" width=\"100%\">\n",
       "<!-- #include tool-help-first-column gui\\blocks\\tool-help-first-column.htm;help_ext=#help_ext;1 -->\n",
       "  <td colspan=\"#colspan\">\n",
       "    <table Xbgcolor=\"#ffaaaa\" border=\"0\" cellpadding=\"0\" cellspacing=\"0\" width=\"100%\">\n",
       "      <tr Xbgcolor=\"#ffffaa\">\n",
       "        <td align=\"left\" width=\"100\">\n",
       "          <table cellpadding=\"0\" cellspacing=\"2\">\n",
       "            <tr bgcolor=\"$GetVar(HtmlTableGroupBgColour)\">\n",
       "              <td>\n",
       "                <table cellpadding=\"2\" cellspacing=\"0\">\n",
       "                  <tr valign=\"middle\">\n",
       "                    <td valign=\"middle\">\n",
       "                      <input bgcolor=\"GetVar(HtmlTableBgColour)\" fgcolor=\"GetVar(HtmlFontColour)\" height=\"20\" name=\"test\" type=\"checkbox\" valign=\"middle\">\n",
       "                    </td>\n",
       "                    <td align=\"left\" valign=\"middle\">\n",
       "                      <b>test</b>\n",
       "                    </td>\n",
       "                  </tr>\n",
       "                </table>\n",
       "              </td>\n",
       "              <td>\n",
       "                <table cellpadding=\"2\" cellspacing=\"0\">\n",
       "                  <tr valign=\"middle\">\n",
       "                    <td valign=\"middle\">\n",
       "                      <input bgcolor=\"GetVar(HtmlTableBgColour)\" fgcolor=\"GetVar(HtmlFontColour)\" height=\"20\" name=\"test\" type=\"checkbox\" valign=\"middle\">\n",
       "                    </td>\n",
       "                    <td align=\"left\" valign=\"middle\">\n",
       "                      <b>test</b>\n",
       "                    </td>\n",
       "                  </tr>\n",
       "                </table>\n",
       "              </td>\n",
       "            </tr>\n",
       "          </table>\n",
       "        </td>\n",
       "      </tr>\n",
       "    </table>\n",
       "  </td>\n",
       "</tr>"
      ]
     },
     "execution_count": 4,
     "metadata": {},
     "output_type": "execute_result"
    }
   ],
   "execution_count": 4
  },
  {
   "metadata": {
    "ExecuteTime": {
     "end_time": "2025-08-20T19:01:13.903327Z",
     "start_time": "2025-08-20T19:01:13.900721Z"
    }
   },
   "cell_type": "code",
   "source": "print(line2.pretty)",
   "id": "ff826574a4fc5900",
   "outputs": [
    {
     "name": "stdout",
     "output_type": "stream",
     "text": [
      "<\u001B[94mtr\u001B[39;49;00m \u001B[36mALIGN\u001B[39;49;00m=\u001B[33m\"left\"\u001B[39;49;00m \u001B[36mNAME\u001B[39;49;00m=\u001B[33m\"Test\"\u001B[39;49;00m \u001B[36mwidth\u001B[39;49;00m=\u001B[33m\"100%\"\u001B[39;49;00m>\n",
      "\u001B[37m<!-- #include tool-help-first-column gui\\blocks\\tool-help-first-column.htm;help_ext=#help_ext;1 -->\u001B[39;49;00m\n",
      "  <\u001B[94mtd\u001B[39;49;00m \u001B[36mcolspan\u001B[39;49;00m=\u001B[33m\"#colspan\"\u001B[39;49;00m>\n",
      "    <\u001B[94mtable\u001B[39;49;00m \u001B[36mXbgcolor\u001B[39;49;00m=\u001B[33m\"#ffaaaa\"\u001B[39;49;00m \u001B[36mborder\u001B[39;49;00m=\u001B[33m\"0\"\u001B[39;49;00m \u001B[36mcellpadding\u001B[39;49;00m=\u001B[33m\"0\"\u001B[39;49;00m \u001B[36mcellspacing\u001B[39;49;00m=\u001B[33m\"0\"\u001B[39;49;00m \u001B[36mwidth\u001B[39;49;00m=\u001B[33m\"100%\"\u001B[39;49;00m>\n",
      "      <\u001B[94mtr\u001B[39;49;00m \u001B[36mXbgcolor\u001B[39;49;00m=\u001B[33m\"#ffffaa\"\u001B[39;49;00m>\n",
      "        <\u001B[94mtd\u001B[39;49;00m \u001B[36malign\u001B[39;49;00m=\u001B[33m\"left\"\u001B[39;49;00m \u001B[36mwidth\u001B[39;49;00m=\u001B[33m\"100\"\u001B[39;49;00m>\n",
      "          <\u001B[94mtable\u001B[39;49;00m \u001B[36mcellpadding\u001B[39;49;00m=\u001B[33m\"0\"\u001B[39;49;00m \u001B[36mcellspacing\u001B[39;49;00m=\u001B[33m\"2\"\u001B[39;49;00m>\n",
      "            <\u001B[94mtr\u001B[39;49;00m \u001B[36mbgcolor\u001B[39;49;00m=\u001B[33m\"$GetVar(HtmlTableGroupBgColour)\"\u001B[39;49;00m>\n",
      "              <\u001B[94mtd\u001B[39;49;00m>\n",
      "                <\u001B[94mtable\u001B[39;49;00m \u001B[36mcellpadding\u001B[39;49;00m=\u001B[33m\"2\"\u001B[39;49;00m \u001B[36mcellspacing\u001B[39;49;00m=\u001B[33m\"0\"\u001B[39;49;00m>\n",
      "                  <\u001B[94mtr\u001B[39;49;00m \u001B[36mvalign\u001B[39;49;00m=\u001B[33m\"middle\"\u001B[39;49;00m>\n",
      "                    <\u001B[94mtd\u001B[39;49;00m \u001B[36mvalign\u001B[39;49;00m=\u001B[33m\"middle\"\u001B[39;49;00m>\n",
      "                      <\u001B[94minput\u001B[39;49;00m \u001B[36mbgcolor\u001B[39;49;00m=\u001B[33m\"GetVar(HtmlTableBgColour)\"\u001B[39;49;00m \u001B[36mfgcolor\u001B[39;49;00m=\u001B[33m\"GetVar(HtmlFontColour)\"\u001B[39;49;00m \u001B[36mheight\u001B[39;49;00m=\u001B[33m\"20\"\u001B[39;49;00m \u001B[36mname\u001B[39;49;00m=\u001B[33m\"test\"\u001B[39;49;00m \u001B[36mtype\u001B[39;49;00m=\u001B[33m\"checkbox\"\u001B[39;49;00m \u001B[36mvalign\u001B[39;49;00m=\u001B[33m\"middle\"\u001B[39;49;00m>\n",
      "                    </\u001B[94mtd\u001B[39;49;00m>\n",
      "                    <\u001B[94mtd\u001B[39;49;00m \u001B[36malign\u001B[39;49;00m=\u001B[33m\"left\"\u001B[39;49;00m \u001B[36mvalign\u001B[39;49;00m=\u001B[33m\"middle\"\u001B[39;49;00m>\n",
      "                      <\u001B[94mb\u001B[39;49;00m>test</\u001B[94mb\u001B[39;49;00m>\n",
      "                    </\u001B[94mtd\u001B[39;49;00m>\n",
      "                  </\u001B[94mtr\u001B[39;49;00m>\n",
      "                </\u001B[94mtable\u001B[39;49;00m>\n",
      "              </\u001B[94mtd\u001B[39;49;00m>\n",
      "              <\u001B[94mtd\u001B[39;49;00m>\n",
      "                <\u001B[94mtable\u001B[39;49;00m \u001B[36mcellpadding\u001B[39;49;00m=\u001B[33m\"2\"\u001B[39;49;00m \u001B[36mcellspacing\u001B[39;49;00m=\u001B[33m\"0\"\u001B[39;49;00m>\n",
      "                  <\u001B[94mtr\u001B[39;49;00m \u001B[36mvalign\u001B[39;49;00m=\u001B[33m\"middle\"\u001B[39;49;00m>\n",
      "                    <\u001B[94mtd\u001B[39;49;00m \u001B[36mvalign\u001B[39;49;00m=\u001B[33m\"middle\"\u001B[39;49;00m>\n",
      "                      <\u001B[94minput\u001B[39;49;00m \u001B[36mbgcolor\u001B[39;49;00m=\u001B[33m\"GetVar(HtmlTableBgColour)\"\u001B[39;49;00m \u001B[36mfgcolor\u001B[39;49;00m=\u001B[33m\"GetVar(HtmlFontColour)\"\u001B[39;49;00m \u001B[36mheight\u001B[39;49;00m=\u001B[33m\"20\"\u001B[39;49;00m \u001B[36mname\u001B[39;49;00m=\u001B[33m\"test\"\u001B[39;49;00m \u001B[36mtype\u001B[39;49;00m=\u001B[33m\"checkbox\"\u001B[39;49;00m \u001B[36mvalign\u001B[39;49;00m=\u001B[33m\"middle\"\u001B[39;49;00m>\n",
      "                    </\u001B[94mtd\u001B[39;49;00m>\n",
      "                    <\u001B[94mtd\u001B[39;49;00m \u001B[36malign\u001B[39;49;00m=\u001B[33m\"left\"\u001B[39;49;00m \u001B[36mvalign\u001B[39;49;00m=\u001B[33m\"middle\"\u001B[39;49;00m>\n",
      "                      <\u001B[94mb\u001B[39;49;00m>test</\u001B[94mb\u001B[39;49;00m>\n",
      "                    </\u001B[94mtd\u001B[39;49;00m>\n",
      "                  </\u001B[94mtr\u001B[39;49;00m>\n",
      "                </\u001B[94mtable\u001B[39;49;00m>\n",
      "              </\u001B[94mtd\u001B[39;49;00m>\n",
      "            </\u001B[94mtr\u001B[39;49;00m>\n",
      "          </\u001B[94mtable\u001B[39;49;00m>\n",
      "        </\u001B[94mtd\u001B[39;49;00m>\n",
      "      </\u001B[94mtr\u001B[39;49;00m>\n",
      "    </\u001B[94mtable\u001B[39;49;00m>\n",
      "  </\u001B[94mtd\u001B[39;49;00m>\n",
      "</\u001B[94mtr\u001B[39;49;00m>\n",
      "\n"
     ]
    }
   ],
   "execution_count": 5
  },
  {
   "metadata": {
    "ExecuteTime": {
     "end_time": "2025-08-20T19:01:14.031683Z",
     "start_time": "2025-08-20T19:01:13.946637Z"
    }
   },
   "cell_type": "code",
   "source": [
    "for k in p:\n",
    "    print(k)"
   ],
   "id": "aa8c3d12168bb787",
   "outputs": [
    {
     "ename": "TypeError",
     "evalue": "'type' object is not iterable",
     "output_type": "error",
     "traceback": [
      "\u001B[31m---------------------------------------------------------------------------\u001B[39m",
      "\u001B[31mTypeError\u001B[39m                                 Traceback (most recent call last)",
      "\u001B[36mCell\u001B[39m\u001B[36m \u001B[39m\u001B[32mIn[6]\u001B[39m\u001B[32m, line 1\u001B[39m\n\u001B[32m----> \u001B[39m\u001B[32m1\u001B[39m \u001B[38;5;28;43;01mfor\u001B[39;49;00m\u001B[43m \u001B[49m\u001B[43mk\u001B[49m\u001B[43m \u001B[49m\u001B[38;5;129;43;01min\u001B[39;49;00m\u001B[43m \u001B[49m\u001B[43mp\u001B[49m\u001B[43m:\u001B[49m\n\u001B[32m      2\u001B[39m \u001B[43m    \u001B[49m\u001B[38;5;28;43mprint\u001B[39;49m\u001B[43m(\u001B[49m\u001B[43mk\u001B[49m\u001B[43m)\u001B[49m\n",
      "\u001B[31mTypeError\u001B[39m: 'type' object is not iterable"
     ]
    }
   ],
   "execution_count": 6
  },
  {
   "metadata": {
    "ExecuteTime": {
     "end_time": "2025-08-20T19:01:14.033249580Z",
     "start_time": "2025-08-20T18:59:19.536725Z"
    }
   },
   "cell_type": "code",
   "source": [
    "from dataclasses import asdict\n",
    "asdict(config)"
   ],
   "id": "ec455a5e4a9763fd",
   "outputs": [
    {
     "ename": "TypeError",
     "evalue": "asdict() should be called on dataclass instances",
     "output_type": "error",
     "traceback": [
      "\u001B[31m---------------------------------------------------------------------------\u001B[39m",
      "\u001B[31mTypeError\u001B[39m                                 Traceback (most recent call last)",
      "\u001B[36mCell\u001B[39m\u001B[36m \u001B[39m\u001B[32mIn[8]\u001B[39m\u001B[32m, line 2\u001B[39m\n\u001B[32m      1\u001B[39m \u001B[38;5;28;01mfrom\u001B[39;00m\u001B[38;5;250m \u001B[39m\u001B[34;01mdataclasses\u001B[39;00m\u001B[38;5;250m \u001B[39m\u001B[38;5;28;01mimport\u001B[39;00m asdict\n\u001B[32m----> \u001B[39m\u001B[32m2\u001B[39m \u001B[43masdict\u001B[49m\u001B[43m(\u001B[49m\u001B[43mconfig\u001B[49m\u001B[43m)\u001B[49m\n",
      "\u001B[36mFile \u001B[39m\u001B[32m/usr/lib64/python3.13/dataclasses.py:1358\u001B[39m, in \u001B[36masdict\u001B[39m\u001B[34m(obj, dict_factory)\u001B[39m\n\u001B[32m   1339\u001B[39m \u001B[38;5;250m\u001B[39m\u001B[33;03m\"\"\"Return the fields of a dataclass instance as a new dictionary mapping\u001B[39;00m\n\u001B[32m   1340\u001B[39m \u001B[33;03mfield names to field values.\u001B[39;00m\n\u001B[32m   1341\u001B[39m \n\u001B[32m   (...)\u001B[39m\u001B[32m   1355\u001B[39m \u001B[33;03mtuples, lists, and dicts. Other objects are copied with 'copy.deepcopy()'.\u001B[39;00m\n\u001B[32m   1356\u001B[39m \u001B[33;03m\"\"\"\u001B[39;00m\n\u001B[32m   1357\u001B[39m \u001B[38;5;28;01mif\u001B[39;00m \u001B[38;5;129;01mnot\u001B[39;00m _is_dataclass_instance(obj):\n\u001B[32m-> \u001B[39m\u001B[32m1358\u001B[39m     \u001B[38;5;28;01mraise\u001B[39;00m \u001B[38;5;167;01mTypeError\u001B[39;00m(\u001B[33m\"\u001B[39m\u001B[33masdict() should be called on dataclass instances\u001B[39m\u001B[33m\"\u001B[39m)\n\u001B[32m   1359\u001B[39m \u001B[38;5;28;01mreturn\u001B[39;00m _asdict_inner(obj, dict_factory)\n",
      "\u001B[31mTypeError\u001B[39m: asdict() should be called on dataclass instances"
     ]
    }
   ],
   "execution_count": 8
  },
  {
   "metadata": {
    "ExecuteTime": {
     "end_time": "2025-08-20T19:01:14.046317206Z",
     "start_time": "2025-08-20T18:50:42.826322Z"
    }
   },
   "cell_type": "code",
   "source": [
    "with open(\"h3-refine_NoSpherA2-tests.htm\", \"w\") as f:\n",
    "    f.write(str(sec))\n",
    "update()"
   ],
   "id": "e262f9784afccd44",
   "outputs": [],
   "execution_count": 8
  },
  {
   "metadata": {
    "ExecuteTime": {
     "end_time": "2025-08-20T19:01:14.046535238Z",
     "start_time": "2025-08-20T18:50:42.869877Z"
    }
   },
   "cell_type": "code",
   "source": "print(test)",
   "id": "f845ff4e4321b634",
   "outputs": [
    {
     "name": "stdout",
     "output_type": "stream",
     "text": [
      "<td>\n",
      "  <table cellpadding=\"2\" cellspacing=\"0\">\n",
      "    <tr valign=\"middle\">\n",
      "      <td valign=\"middle\">\n",
      "        <input bgcolor=\"GetVar(HtmlTableBgColour)\" fgcolor=\"GetVar(HtmlFontColour)\" height=\"20\" name=\"test\" type=\"checkbox\" valign=\"middle\">\n",
      "      </td>\n",
      "      <td align=\"left\" valign=\"middle\">\n",
      "        <b>test</b>\n",
      "      </td>\n",
      "    </tr>\n",
      "  </table>\n",
      "</td>\n"
     ]
    }
   ],
   "execution_count": 9
  },
  {
   "metadata": {
    "ExecuteTime": {
     "end_time": "2025-08-20T19:01:14.046704789Z",
     "start_time": "2025-08-20T18:50:42.914403Z"
    }
   },
   "cell_type": "code",
   "source": [
    "from rich.console import Console\n",
    "from rich.markdown import Markdown\n",
    "console = Console()\n",
    "console.print(Markdown(\"**test**\"))"
   ],
   "id": "b8d470c04dbbff12",
   "outputs": [
    {
     "data": {
      "text/plain": [
       "\u001B[1mtest\u001B[0m                                                                                                               \n"
      ],
      "text/html": [
       "<pre style=\"white-space:pre;overflow-x:auto;line-height:normal;font-family:Menlo,'DejaVu Sans Mono',consolas,'Courier New',monospace\"><span style=\"font-weight: bold\">test</span>                                                                                                               \n",
       "</pre>\n"
      ]
     },
     "metadata": {},
     "output_type": "display_data"
    }
   ],
   "execution_count": 10
  },
  {
   "metadata": {
    "ExecuteTime": {
     "end_time": "2025-08-20T19:01:14.047945202Z",
     "start_time": "2025-08-20T18:50:42.960041Z"
    }
   },
   "cell_type": "code",
   "source": [
    "from bs4 import BeautifulSoup\n",
    "soup = BeautifulSoup(\"<b>t</b>\", \"html.parser\")\n",
    "print(soup.encode())"
   ],
   "id": "ce0a4081861e783e",
   "outputs": [
    {
     "name": "stdout",
     "output_type": "stream",
     "text": [
      "b'<b>t</b>'\n"
     ]
    }
   ],
   "execution_count": 11
  },
  {
   "metadata": {
    "ExecuteTime": {
     "end_time": "2025-08-20T19:01:14.048136223Z",
     "start_time": "2025-08-20T18:50:43.005702Z"
    }
   },
   "cell_type": "code",
   "source": [
    "import rich\n",
    "rich.print(\":warning:\")"
   ],
   "id": "50223299582104da",
   "outputs": [
    {
     "data": {
      "text/plain": [
       "⚠\n"
      ],
      "text/html": [
       "<pre style=\"white-space:pre;overflow-x:auto;line-height:normal;font-family:Menlo,'DejaVu Sans Mono',consolas,'Courier New',monospace\">⚠\n",
       "</pre>\n"
      ]
     },
     "metadata": {},
     "output_type": "display_data"
    }
   ],
   "execution_count": 12
  },
  {
   "metadata": {
    "ExecuteTime": {
     "end_time": "2025-08-20T19:01:14.048359545Z",
     "start_time": "2025-08-20T18:50:43.060363Z"
    }
   },
   "cell_type": "code",
   "source": "(\"<b></b>\")",
   "id": "14299a363d49243f",
   "outputs": [
    {
     "data": {
      "text/plain": [
       "'<b></b>'"
      ]
     },
     "execution_count": 13,
     "metadata": {},
     "output_type": "execute_result"
    }
   ],
   "execution_count": 13
  },
  {
   "metadata": {
    "ExecuteTime": {
     "end_time": "2025-08-20T19:01:14.048577026Z",
     "start_time": "2025-08-20T18:50:43.106040Z"
    }
   },
   "cell_type": "code",
   "source": [
    "import IPython\n",
    "IPython.core.display.HTML(f\"<row><col><input type=checkbox></col><col><b>test</b></col>\")"
   ],
   "id": "c7cab1406f63afbc",
   "outputs": [
    {
     "data": {
      "text/plain": [
       "<IPython.core.display.HTML object>"
      ],
      "text/html": [
       "<row><col><input type=checkbox></col><col><b>test</b></col>"
      ]
     },
     "execution_count": 14,
     "metadata": {},
     "output_type": "execute_result"
    }
   ],
   "execution_count": 14
  },
  {
   "metadata": {
    "ExecuteTime": {
     "end_time": "2025-08-20T19:01:14.048781913Z",
     "start_time": "2025-08-20T18:50:43.152315Z"
    }
   },
   "cell_type": "code",
   "source": "",
   "id": "7175680d524fe09d",
   "outputs": [],
   "execution_count": null
  }
 ],
 "metadata": {
  "kernelspec": {
   "display_name": "Python 3",
   "language": "python",
   "name": "python3"
  },
  "language_info": {
   "codemirror_mode": {
    "name": "ipython",
    "version": 2
   },
   "file_extension": ".py",
   "mimetype": "text/x-python",
   "name": "python",
   "nbconvert_exporter": "python",
   "pygments_lexer": "ipython2",
   "version": "2.7.6"
  }
 },
 "nbformat": 4,
 "nbformat_minor": 5
}
