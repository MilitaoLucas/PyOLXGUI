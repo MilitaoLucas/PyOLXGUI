{
 "cells": [
  {
   "cell_type": "code",
   "id": "initial_id",
   "metadata": {
    "collapsed": true,
    "ExecuteTime": {
     "end_time": "2025-08-11T20:01:05.864481Z",
     "start_time": "2025-08-11T20:01:05.784540Z"
    }
   },
   "source": [
    "from importlib import reload\n",
    "import ast\n",
    "\n",
    "import olx_gui.components.item_component\n",
    "import olx_gui.components.table\n",
    "reload(olx_gui.components.item_component)\n",
    "reload(olx_gui.components.table)\n",
    "from olx_gui.components.item_component import *\n",
    "from olx_gui.components.table import *\n",
    "from olx_gui.components.tableOriginalComponents import *\n",
    "reload(olx_gui.components)\n",
    "reload(olx_gui.components.tableOriginalComponents)\n",
    "import re\n",
    "lexer = HtmlLexer()\n",
    "formatter = TerminalFormatter() # This will output ANSI escape codes"
   ],
   "outputs": [],
   "execution_count": 1
  },
  {
   "metadata": {
    "ExecuteTime": {
     "end_time": "2025-08-11T20:01:06.319050Z",
     "start_time": "2025-08-11T20:01:06.269559Z"
    }
   },
   "cell_type": "code",
   "source": "print(Line(\"Test\"))",
   "id": "518ce0f8746aaf2b",
   "outputs": [
    {
     "name": "stderr",
     "output_type": "stream",
     "text": [
      "ic| self.config.tr1_parameters: {'ALIGN': 'left', 'NAME': 'Test', 'width': '100%'}\n"
     ]
    },
    {
     "name": "stdout",
     "output_type": "stream",
     "text": [
      "<tr ALIGN=\"left\" NAME=\"Test\" width=\"100%\">\n",
      "<!-- #include tool-help-first-column gui\\blocks\\tool-help-first-column.htm;help_ext=#help_ext;1 -->\n",
      "  <td colspan=\"#colspan\">\n",
      "    <table Xbgcolor=\"#ffaaaa\" border=\"0\" cellpadding=\"0\" cellspacing=\"0\" width=\"100%\">\n",
      "      <tr Xbgcolor=\"#ffffaa\">\n",
      "        <td align=\"left\" width=\"100\">\n",
      "          <table cellpadding=\"0\" cellspacing=\"2\" width=\"100%\">\n",
      "            <tr bgcolor=\"$GetVar(HtmlTableGroupBgColour)\"></tr>\n",
      "          </table>\n",
      "        </td>\n",
      "      </tr>\n",
      "    </table>\n",
      "  </td>\n",
      "</tr>\n"
     ]
    }
   ],
   "execution_count": 2
  },
  {
   "metadata": {
    "ExecuteTime": {
     "end_time": "2025-08-11T19:59:10.300866Z",
     "start_time": "2025-08-11T19:59:10.298642Z"
    }
   },
   "cell_type": "code",
   "source": "print(div(div(div(comment(\"test\", ident=\"\")))).render())",
   "id": "e262f9784afccd44",
   "outputs": [
    {
     "name": "stdout",
     "output_type": "stream",
     "text": [
      "<div>\n",
      "  <div>\n",
      "    <div>\n",
      "      <!--test-->\n",
      "    </div>\n",
      "  </div>\n",
      "</div>\n"
     ]
    }
   ],
   "execution_count": 8
  },
  {
   "metadata": {},
   "cell_type": "code",
   "outputs": [],
   "execution_count": null,
   "source": "",
   "id": "f845ff4e4321b634"
  }
 ],
 "metadata": {
  "kernelspec": {
   "display_name": "Python 3",
   "language": "python",
   "name": "python3"
  },
  "language_info": {
   "codemirror_mode": {
    "name": "ipython",
    "version": 2
   },
   "file_extension": ".py",
   "mimetype": "text/x-python",
   "name": "python",
   "nbconvert_exporter": "python",
   "pygments_lexer": "ipython2",
   "version": "2.7.6"
  }
 },
 "nbformat": 4,
 "nbformat_minor": 5
}
